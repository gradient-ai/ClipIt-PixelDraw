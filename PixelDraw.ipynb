{
 "cells": [
  {
   "cell_type": "code",
   "execution_count": null,
   "id": "d46c1d61-ae87-497c-b18c-90d7bfd6b0e2",
   "metadata": {
    "collapsed": false,
    "gradient": {
     "editing": false,
     "source_hidden": false
    }
   },
   "outputs": [
    {
     "name": "stdout",
     "output_type": "stream",
     "text": [
      "Cloning into 'CLIP'...\r\n"
     ]
    },
    {
     "name": "stdout",
     "output_type": "stream",
     "text": [
      "remote: Enumerating objects: 142, done.\u001b[K\r\n",
      "remote: Counting objects:   1% (1/51)\u001b[K\r",
      "remote: Counting objects:   3% (2/51)\u001b[K\r",
      "remote: Counting objects:   5% (3/51)\u001b[K\r",
      "remote: Counting objects:   7% (4/51)\u001b[K\r",
      "remote: Counting objects:   9% (5/51)\u001b[K\r",
      "remote: Counting objects:  11% (6/51)\u001b[K\r",
      "remote: Counting objects:  13% (7/51)\u001b[K\r",
      "remote: Counting objects:  15% (8/51)\u001b[K\r",
      "remote: Counting objects:  17% (9/51)\u001b[K\r",
      "remote: Counting objects:  19% (10/51)\u001b[K\r",
      "remote: Counting objects:  21% (11/51)\u001b[K\r",
      "remote: Counting objects:  23% (12/51)\u001b[K\r",
      "remote: Counting objects:  25% (13/51)\u001b[K\r",
      "remote: Counting objects:  27% (14/51)\u001b[K\r",
      "remote: Counting objects:  29% (15/51)\u001b[K\r",
      "remote: Counting objects:  31% (16/51)\u001b[K\r",
      "remote: Counting objects:  33% (17/51)\u001b[K\r",
      "remote: Counting objects:  35% (18/51)\u001b[K\r",
      "remote: Counting objects:  37% (19/51)\u001b[K\r",
      "remote: Counting objects:  39% (20/51)\u001b[K\r",
      "remote: Counting objects:  41% (21/51)\u001b[K\r",
      "remote: Counting objects:  43% (22/51)\u001b[K\r",
      "remote: Counting objects:  45% (23/51)\u001b[K\r",
      "remote: Counting objects:  47% (24/51)\u001b[K\r",
      "remote: Counting objects:  49% (25/51)\u001b[K\r",
      "remote: Counting objects:  50% (26/51)\u001b[K\r",
      "remote: Counting objects:  52% (27/51)\u001b[K\r",
      "remote: Counting objects:  54% (28/51)\u001b[K\r",
      "remote: Counting objects:  56% (29/51)\u001b[K\r",
      "remote: Counting objects:  58% (30/51)\u001b[K\r",
      "remote: Counting objects:  60% (31/51)\u001b[K\r",
      "remote: Counting objects:  62% (32/51)\u001b[K\r",
      "remote: Counting objects:  64% (33/51)\u001b[K\r",
      "remote: Counting objects:  66% (34/51)\u001b[K\r",
      "remote: Counting objects:  68% (35/51)\u001b[K\r",
      "remote: Counting objects:  70% (36/51)\u001b[K\r",
      "remote: Counting objects:  72% (37/51)\u001b[K\r",
      "remote: Counting objects:  74% (38/51)\u001b[K\r",
      "remote: Counting objects:  76% (39/51)\u001b[K\r",
      "remote: Counting objects:  78% (40/51)\u001b[K\r",
      "remote: Counting objects:  80% (41/51)\u001b[K\r",
      "remote: Counting objects:  82% (42/51)\u001b[K\r",
      "remote: Counting objects:  84% (43/51)\u001b[K\r",
      "remote: Counting objects:  86% (44/51)\u001b[K\r",
      "remote: Counting objects:  88% (45/51)\u001b[K\r",
      "remote: Counting objects:  90% (46/51)\u001b[K\r",
      "remote: Counting objects:  92% (47/51)\u001b[K\r",
      "remote: Counting objects:  94% (48/51)\u001b[K\r",
      "remote: Counting objects:  96% (49/51)\u001b[K\r",
      "remote: Counting objects:  98% (50/51)\u001b[K\r",
      "remote: Counting objects: 100% (51/51)\u001b[K\r",
      "remote: Counting objects: 100% (51/51), done.\u001b[K\r\n",
      "remote: Compressing objects:   3% (1/31)\u001b[K\r",
      "remote: Compressing objects:   6% (2/31)\u001b[K\r",
      "remote: Compressing objects:   9% (3/31)\u001b[K\r",
      "remote: Compressing objects:  12% (4/31)\u001b[K\r",
      "remote: Compressing objects:  16% (5/31)\u001b[K\r",
      "remote: Compressing objects:  19% (6/31)\u001b[K\r",
      "remote: Compressing objects:  22% (7/31)\u001b[K\r",
      "remote: Compressing objects:  25% (8/31)\u001b[K\r",
      "remote: Compressing objects:  29% (9/31)\u001b[K\r",
      "remote: Compressing objects:  32% (10/31)\u001b[K\r",
      "remote: Compressing objects:  35% (11/31)\u001b[K\r",
      "remote: Compressing objects:  38% (12/31)\u001b[K\r",
      "remote: Compressing objects:  41% (13/31)\u001b[K\r",
      "remote: Compressing objects:  45% (14/31)\u001b[K\r",
      "remote: Compressing objects:  48% (15/31)\u001b[K\r",
      "remote: Compressing objects:  51% (16/31)\u001b[K\r",
      "remote: Compressing objects:  54% (17/31)\u001b[K\r",
      "remote: Compressing objects:  58% (18/31)\u001b[K\r",
      "remote: Compressing objects:  61% (19/31)\u001b[K\r",
      "remote: Compressing objects:  64% (20/31)\u001b[K\r",
      "remote: Compressing objects:  67% (21/31)\u001b[K\r",
      "remote: Compressing objects:  70% (22/31)\u001b[K\r",
      "remote: Compressing objects:  74% (23/31)\u001b[K\r",
      "remote: Compressing objects:  77% (24/31)\u001b[K\r",
      "remote: Compressing objects:  80% (25/31)\u001b[K\r",
      "remote: Compressing objects:  83% (26/31)\u001b[K\r",
      "remote: Compressing objects:  87% (27/31)\u001b[K\r",
      "remote: Compressing objects:  90% (28/31)\u001b[K\r",
      "remote: Compressing objects:  93% (29/31)\u001b[K\r",
      "remote: Compressing objects:  96% (30/31)\u001b[K\r",
      "remote: Compressing objects: 100% (31/31)\u001b[K\r",
      "remote: Compressing objects: 100% (31/31), done.\u001b[K\r\n",
      "Receiving objects:   0% (1/142)   \r",
      "Receiving objects:   1% (2/142)   \r",
      "Receiving objects:   2% (3/142)   \r",
      "Receiving objects:   3% (5/142)   \r",
      "Receiving objects:   4% (6/142)   \r",
      "Receiving objects:   5% (8/142)   \r",
      "Receiving objects:   6% (9/142)   \r",
      "Receiving objects:   7% (10/142)   \r",
      "Receiving objects:   8% (12/142)   \r",
      "Receiving objects:   9% (13/142)   \r",
      "Receiving objects:  10% (15/142)   \r",
      "Receiving objects:  11% (16/142)   \r",
      "Receiving objects:  12% (18/142)   \r",
      "Receiving objects:  13% (19/142)   \r",
      "Receiving objects:  14% (20/142)   \r",
      "Receiving objects:  15% (22/142)   \r",
      "Receiving objects:  16% (23/142)   \r",
      "Receiving objects:  17% (25/142)   \r",
      "Receiving objects:  18% (26/142)   \r"
     ]
    },
    {
     "name": "stdout",
     "output_type": "stream",
     "text": [
      "Receiving objects:  19% (27/142)   \r",
      "Receiving objects:  20% (29/142)   \r",
      "Receiving objects:  21% (30/142)   \r"
     ]
    },
    {
     "name": "stdout",
     "output_type": "stream",
     "text": [
      "Receiving objects:  22% (32/142)   \r",
      "Receiving objects:  23% (33/142)   \r",
      "Receiving objects:  24% (35/142)   \r",
      "Receiving objects:  25% (36/142)   \r",
      "Receiving objects:  26% (37/142)   \r",
      "Receiving objects:  27% (39/142)   \r",
      "Receiving objects:  28% (40/142)   \r",
      "Receiving objects:  29% (42/142)   \r",
      "Receiving objects:  30% (43/142)   \r",
      "Receiving objects:  31% (45/142)   \r",
      "Receiving objects:  32% (46/142)   \r",
      "Receiving objects:  33% (47/142)   \r",
      "Receiving objects:  34% (49/142)   \r",
      "Receiving objects:  35% (50/142)   \r",
      "Receiving objects:  36% (52/142)   \r",
      "Receiving objects:  37% (53/142)   \r",
      "Receiving objects:  38% (54/142)   \r",
      "Receiving objects:  39% (56/142)   \r",
      "Receiving objects:  40% (57/142)   \r",
      "Receiving objects:  41% (59/142)   \r",
      "Receiving objects:  42% (60/142)   \r",
      "Receiving objects:  43% (62/142)   \r",
      "Receiving objects:  44% (63/142)   \r",
      "Receiving objects:  45% (64/142)   \r",
      "Receiving objects:  46% (66/142)   \r",
      "Receiving objects:  47% (67/142)   \r",
      "Receiving objects:  48% (69/142)   \r",
      "Receiving objects:  49% (70/142)   \r",
      "Receiving objects:  50% (71/142)   \r",
      "Receiving objects:  51% (73/142)   \r",
      "Receiving objects:  52% (74/142)   \r",
      "Receiving objects:  53% (76/142)   \r",
      "Receiving objects:  54% (77/142)   \r",
      "Receiving objects:  55% (79/142)   \r",
      "Receiving objects:  56% (80/142)   \r",
      "Receiving objects:  57% (81/142)   \r",
      "Receiving objects:  58% (83/142)   \r",
      "Receiving objects:  59% (84/142)   \r",
      "Receiving objects:  60% (86/142)   \r",
      "Receiving objects:  61% (87/142)   \r"
     ]
    },
    {
     "name": "stdout",
     "output_type": "stream",
     "text": [
      "Receiving objects:  62% (89/142)   \r",
      "Receiving objects:  63% (90/142)   \r",
      "Receiving objects:  64% (91/142)   \r",
      "Receiving objects:  65% (93/142)   \r",
      "Receiving objects:  66% (94/142)   \r",
      "Receiving objects:  67% (96/142)   \r",
      "Receiving objects:  68% (97/142)   \r",
      "Receiving objects:  69% (98/142)   \r",
      "Receiving objects:  70% (100/142)   \r",
      "Receiving objects:  71% (101/142)   \r",
      "Receiving objects:  72% (103/142)   \r",
      "Receiving objects:  73% (104/142)   \r",
      "Receiving objects:  74% (106/142)   \r",
      "Receiving objects:  75% (107/142)   \r",
      "Receiving objects:  76% (108/142)   \r",
      "Receiving objects:  77% (110/142)   \r",
      "Receiving objects:  78% (111/142)   \r",
      "Receiving objects:  79% (113/142)   \r",
      "Receiving objects:  80% (114/142)   \r",
      "Receiving objects:  81% (116/142)   \r",
      "Receiving objects:  82% (117/142)   \r",
      "Receiving objects:  83% (118/142)   \r",
      "Receiving objects:  84% (120/142)   \r",
      "Receiving objects:  85% (121/142)   \r",
      "Receiving objects:  86% (123/142)   \r",
      "Receiving objects:  87% (124/142)   \r",
      "Receiving objects:  88% (125/142)   \r",
      "Receiving objects:  89% (127/142)   \r",
      "Receiving objects:  90% (128/142)   \r",
      "Receiving objects:  91% (130/142)   \r",
      "Receiving objects:  92% (131/142)   \r",
      "Receiving objects:  93% (133/142)   \r",
      "Receiving objects:  94% (134/142)   \r",
      "Receiving objects:  95% (135/142)   \r"
     ]
    },
    {
     "name": "stdout",
     "output_type": "stream",
     "text": [
      "remote: Total 142 (delta 23), reused 33 (delta 15), pack-reused 91\u001b[K\r\n",
      "Receiving objects:  96% (137/142)   \r",
      "Receiving objects:  97% (138/142)   \r",
      "Receiving objects:  98% (140/142)   \r",
      "Receiving objects:  99% (141/142)   \r",
      "Receiving objects: 100% (142/142)   \r",
      "Receiving objects: 100% (142/142), 8.82 MiB | 20.96 MiB/s, done.\r\n",
      "Resolving deltas:   0% (0/63)   \r",
      "Resolving deltas:   9% (6/63)   \r",
      "Resolving deltas:  14% (9/63)   \r",
      "Resolving deltas:  17% (11/63)   \r",
      "Resolving deltas:  22% (14/63)   \r",
      "Resolving deltas:  30% (19/63)   \r",
      "Resolving deltas:  33% (21/63)   \r",
      "Resolving deltas:  34% (22/63)   \r",
      "Resolving deltas:  44% (28/63)   \r",
      "Resolving deltas:  49% (31/63)   \r",
      "Resolving deltas:  53% (34/63)   \r",
      "Resolving deltas:  60% (38/63)   \r",
      "Resolving deltas:  65% (41/63)   \r",
      "Resolving deltas:  73% (46/63)   \r",
      "Resolving deltas:  88% (56/63)   \r",
      "Resolving deltas:  90% (57/63)   \r",
      "Resolving deltas:  92% (58/63)   \r",
      "Resolving deltas:  98% (62/63)   \r"
     ]
    },
    {
     "name": "stdout",
     "output_type": "stream",
     "text": [
      "Resolving deltas: 100% (63/63)   \r",
      "Resolving deltas: 100% (63/63), done.\r\n"
     ]
    },
    {
     "name": "stdout",
     "output_type": "stream",
     "text": [
      "Cloning into 'taming-transformers'...\r\n"
     ]
    },
    {
     "name": "stdout",
     "output_type": "stream",
     "text": [
      "remote: Enumerating objects: 796, done.\u001b[K\r\n",
      "Receiving objects:   0% (1/796)   \r",
      "Receiving objects:   1% (8/796)   \r",
      "Receiving objects:   2% (16/796)   \r",
      "Receiving objects:   3% (24/796)   \r",
      "Receiving objects:   4% (32/796)   \r",
      "Receiving objects:   5% (40/796)   \r",
      "Receiving objects:   6% (48/796)   \r",
      "Receiving objects:   7% (56/796)   \r",
      "Receiving objects:   8% (64/796)   \r",
      "Receiving objects:   9% (72/796)   \r",
      "Receiving objects:  10% (80/796)   \r"
     ]
    },
    {
     "name": "stdout",
     "output_type": "stream",
     "text": [
      "Receiving objects:  11% (88/796)   \r"
     ]
    },
    {
     "name": "stdout",
     "output_type": "stream",
     "text": [
      "Receiving objects:  12% (96/796)   \r",
      "Receiving objects:  13% (104/796)   \r",
      "Receiving objects:  14% (112/796)   \r",
      "Receiving objects:  15% (120/796)   \r"
     ]
    },
    {
     "name": "stdout",
     "output_type": "stream",
     "text": [
      "Receiving objects:  16% (128/796)   \r",
      "Receiving objects:  17% (136/796)   \r",
      "Receiving objects:  18% (144/796)   \r",
      "Receiving objects:  19% (152/796)   \r",
      "Receiving objects:  20% (160/796)   \r",
      "Receiving objects:  21% (168/796)   \r"
     ]
    },
    {
     "name": "stdout",
     "output_type": "stream",
     "text": [
      "Receiving objects:  22% (176/796)   \r"
     ]
    },
    {
     "name": "stdout",
     "output_type": "stream",
     "text": [
      "Receiving objects:  23% (184/796), 10.96 MiB | 21.91 MiB/s   \r"
     ]
    },
    {
     "name": "stdout",
     "output_type": "stream",
     "text": [
      "Receiving objects:  24% (192/796), 10.96 MiB | 21.91 MiB/s   \r",
      "Receiving objects:  25% (199/796), 10.96 MiB | 21.91 MiB/s   \r"
     ]
    },
    {
     "name": "stdout",
     "output_type": "stream",
     "text": [
      "Receiving objects:  26% (207/796), 10.96 MiB | 21.91 MiB/s   \r"
     ]
    },
    {
     "name": "stdout",
     "output_type": "stream",
     "text": [
      "Receiving objects:  27% (215/796), 10.96 MiB | 21.91 MiB/s   \r",
      "Receiving objects:  28% (223/796), 10.96 MiB | 21.91 MiB/s   \r",
      "Receiving objects:  29% (231/796), 10.96 MiB | 21.91 MiB/s   \r",
      "Receiving objects:  30% (239/796), 10.96 MiB | 21.91 MiB/s   \r",
      "Receiving objects:  31% (247/796), 10.96 MiB | 21.91 MiB/s   \r"
     ]
    },
    {
     "name": "stdout",
     "output_type": "stream",
     "text": [
      "Receiving objects:  32% (255/796), 10.96 MiB | 21.91 MiB/s   \r"
     ]
    },
    {
     "name": "stdout",
     "output_type": "stream",
     "text": [
      "Receiving objects:  33% (263/796), 10.96 MiB | 21.91 MiB/s   \r"
     ]
    },
    {
     "name": "stdout",
     "output_type": "stream",
     "text": [
      "Receiving objects:  34% (271/796), 10.96 MiB | 21.91 MiB/s   \r",
      "Receiving objects:  34% (274/796), 22.32 MiB | 22.31 MiB/s   \r"
     ]
    },
    {
     "name": "stdout",
     "output_type": "stream",
     "text": [
      "Receiving objects:  35% (279/796), 22.32 MiB | 22.31 MiB/s   \r"
     ]
    },
    {
     "name": "stdout",
     "output_type": "stream",
     "text": [
      "Receiving objects:  36% (287/796), 22.32 MiB | 22.31 MiB/s   \r"
     ]
    },
    {
     "name": "stdout",
     "output_type": "stream",
     "text": [
      "Receiving objects:  37% (295/796), 22.32 MiB | 22.31 MiB/s   \r"
     ]
    },
    {
     "name": "stdout",
     "output_type": "stream",
     "text": [
      "Receiving objects:  38% (303/796), 22.32 MiB | 22.31 MiB/s   \r",
      "Receiving objects:  39% (311/796), 22.32 MiB | 22.31 MiB/s   \r",
      "Receiving objects:  40% (319/796), 22.32 MiB | 22.31 MiB/s   \r"
     ]
    },
    {
     "name": "stdout",
     "output_type": "stream",
     "text": [
      "Receiving objects:  41% (327/796), 22.32 MiB | 22.31 MiB/s   \r",
      "Receiving objects:  42% (335/796), 22.32 MiB | 22.31 MiB/s   \r"
     ]
    },
    {
     "name": "stdout",
     "output_type": "stream",
     "text": [
      "Receiving objects:  43% (343/796), 22.32 MiB | 22.31 MiB/s   \r",
      "Receiving objects:  44% (351/796), 22.32 MiB | 22.31 MiB/s   \r"
     ]
    },
    {
     "name": "stdout",
     "output_type": "stream",
     "text": [
      "Receiving objects:  45% (359/796), 22.32 MiB | 22.31 MiB/s   \r"
     ]
    },
    {
     "name": "stdout",
     "output_type": "stream",
     "text": [
      "Receiving objects:  46% (367/796), 22.32 MiB | 22.31 MiB/s   \r"
     ]
    },
    {
     "name": "stdout",
     "output_type": "stream",
     "text": [
      "Receiving objects:  47% (375/796), 33.68 MiB | 22.45 MiB/s   \r"
     ]
    },
    {
     "name": "stdout",
     "output_type": "stream",
     "text": [
      "Receiving objects:  48% (383/796), 33.68 MiB | 22.45 MiB/s   \r",
      "Receiving objects:  49% (391/796), 33.68 MiB | 22.45 MiB/s   \r",
      "Receiving objects:  50% (398/796), 33.68 MiB | 22.45 MiB/s   \r",
      "Receiving objects:  51% (406/796), 33.68 MiB | 22.45 MiB/s   \r",
      "Receiving objects:  52% (414/796), 33.68 MiB | 22.45 MiB/s   \r",
      "Receiving objects:  53% (422/796), 33.68 MiB | 22.45 MiB/s   \r",
      "Receiving objects:  54% (430/796), 33.68 MiB | 22.45 MiB/s   \r",
      "Receiving objects:  55% (438/796), 33.68 MiB | 22.45 MiB/s   \r"
     ]
    },
    {
     "name": "stdout",
     "output_type": "stream",
     "text": [
      "Receiving objects:  56% (446/796), 33.68 MiB | 22.45 MiB/s   \r",
      "Receiving objects:  57% (454/796), 33.68 MiB | 22.45 MiB/s   \r",
      "Receiving objects:  58% (462/796), 33.68 MiB | 22.45 MiB/s   \r",
      "Receiving objects:  59% (470/796), 33.68 MiB | 22.45 MiB/s   \r",
      "Receiving objects:  60% (478/796), 33.68 MiB | 22.45 MiB/s   \r",
      "Receiving objects:  61% (486/796), 33.68 MiB | 22.45 MiB/s   \r"
     ]
    },
    {
     "name": "stdout",
     "output_type": "stream",
     "text": [
      "Receiving objects:  61% (488/796), 45.03 MiB | 22.51 MiB/s   \r"
     ]
    },
    {
     "name": "stdout",
     "output_type": "stream",
     "text": [
      "Receiving objects:  62% (494/796), 45.03 MiB | 22.51 MiB/s   \r",
      "Receiving objects:  63% (502/796), 45.03 MiB | 22.51 MiB/s   \r",
      "Receiving objects:  64% (510/796), 45.03 MiB | 22.51 MiB/s   \r"
     ]
    },
    {
     "name": "stdout",
     "output_type": "stream",
     "text": [
      "Receiving objects:  65% (518/796), 45.03 MiB | 22.51 MiB/s   \r"
     ]
    },
    {
     "name": "stdout",
     "output_type": "stream",
     "text": [
      "Receiving objects:  66% (526/796), 45.03 MiB | 22.51 MiB/s   \r"
     ]
    },
    {
     "name": "stdout",
     "output_type": "stream",
     "text": [
      "Receiving objects:  67% (534/796), 56.38 MiB | 22.55 MiB/s   \r"
     ]
    },
    {
     "name": "stdout",
     "output_type": "stream",
     "text": [
      "Receiving objects:  68% (542/796), 56.38 MiB | 22.55 MiB/s   \r"
     ]
    },
    {
     "name": "stdout",
     "output_type": "stream",
     "text": [
      "Receiving objects:  68% (547/796), 67.75 MiB | 22.58 MiB/s   \r"
     ]
    },
    {
     "name": "stdout",
     "output_type": "stream",
     "text": [
      "Receiving objects:  68% (549/796), 90.46 MiB | 22.62 MiB/s   \r"
     ]
    },
    {
     "name": "stdout",
     "output_type": "stream",
     "text": [
      "Receiving objects:  68% (549/796), 113.19 MiB | 22.72 MiB/s   \r"
     ]
    },
    {
     "name": "stdout",
     "output_type": "stream",
     "text": [
      "Receiving objects:  68% (549/796), 135.89 MiB | 22.72 MiB/s   \r"
     ]
    },
    {
     "name": "stdout",
     "output_type": "stream",
     "text": [
      "Receiving objects:  69% (550/796), 147.26 MiB | 22.72 MiB/s   \r",
      "Receiving objects:  70% (558/796), 147.26 MiB | 22.72 MiB/s   \r"
     ]
    },
    {
     "name": "stdout",
     "output_type": "stream",
     "text": [
      "Receiving objects:  70% (564/796), 158.55 MiB | 22.71 MiB/s   \r"
     ]
    },
    {
     "name": "stdout",
     "output_type": "stream",
     "text": [
      "Receiving objects:  70% (564/796), 181.25 MiB | 22.69 MiB/s   \r"
     ]
    },
    {
     "name": "stdout",
     "output_type": "stream",
     "text": [
      "Receiving objects:  70% (564/796), 203.97 MiB | 22.70 MiB/s   \r"
     ]
    },
    {
     "name": "stdout",
     "output_type": "stream",
     "text": [
      "Receiving objects:  70% (564/796), 226.67 MiB | 22.69 MiB/s   \r"
     ]
    },
    {
     "name": "stdout",
     "output_type": "stream",
     "text": [
      "Receiving objects:  71% (566/796), 226.67 MiB | 22.69 MiB/s   \r"
     ]
    },
    {
     "name": "stdout",
     "output_type": "stream",
     "text": [
      "Receiving objects:  71% (567/796), 249.36 MiB | 22.69 MiB/s   \r"
     ]
    },
    {
     "name": "stdout",
     "output_type": "stream",
     "text": [
      "Receiving objects:  71% (567/796), 272.06 MiB | 22.70 MiB/s   \r"
     ]
    },
    {
     "name": "stdout",
     "output_type": "stream",
     "text": [
      "Receiving objects:  72% (574/796), 272.06 MiB | 22.70 MiB/s   \r"
     ]
    },
    {
     "name": "stdout",
     "output_type": "stream",
     "text": [
      "Receiving objects:  72% (576/796), 294.57 MiB | 22.66 MiB/s   \r"
     ]
    },
    {
     "name": "stdout",
     "output_type": "stream",
     "text": [
      "Receiving objects:  72% (577/796), 294.57 MiB | 22.66 MiB/s   \r"
     ]
    },
    {
     "name": "stdout",
     "output_type": "stream",
     "text": [
      "Receiving objects:  73% (582/796), 302.69 MiB | 17.23 MiB/s   \r",
      "Receiving objects:  74% (590/796), 302.69 MiB | 17.23 MiB/s   \r",
      "Receiving objects:  75% (597/796), 302.69 MiB | 17.23 MiB/s   \r",
      "Receiving objects:  76% (605/796), 302.69 MiB | 17.23 MiB/s   \r"
     ]
    },
    {
     "name": "stdout",
     "output_type": "stream",
     "text": [
      "Receiving objects:  77% (613/796), 302.69 MiB | 17.23 MiB/s   \r"
     ]
    },
    {
     "name": "stdout",
     "output_type": "stream",
     "text": [
      "Receiving objects:  77% (617/796), 302.69 MiB | 17.23 MiB/s   \r",
      "Receiving objects:  78% (621/796), 302.69 MiB | 17.23 MiB/s   \r",
      "remote: Total 796 (delta 0), reused 0 (delta 0), pack-reused 796\u001b[K\r\n",
      "Receiving objects:  79% (629/796), 302.69 MiB | 17.23 MiB/s   \r",
      "Receiving objects:  80% (637/796), 302.69 MiB | 17.23 MiB/s   \r",
      "Receiving objects:  81% (645/796), 302.69 MiB | 17.23 MiB/s   \r",
      "Receiving objects:  82% (653/796), 302.69 MiB | 17.23 MiB/s   \r",
      "Receiving objects:  83% (661/796), 302.69 MiB | 17.23 MiB/s   \r",
      "Receiving objects:  84% (669/796), 302.69 MiB | 17.23 MiB/s   \r",
      "Receiving objects:  85% (677/796), 302.69 MiB | 17.23 MiB/s   \r",
      "Receiving objects:  86% (685/796), 302.69 MiB | 17.23 MiB/s   \r",
      "Receiving objects:  87% (693/796), 302.69 MiB | 17.23 MiB/s   \r",
      "Receiving objects:  88% (701/796), 302.69 MiB | 17.23 MiB/s   \r",
      "Receiving objects:  89% (709/796), 302.69 MiB | 17.23 MiB/s   \r",
      "Receiving objects:  90% (717/796), 302.69 MiB | 17.23 MiB/s   \r",
      "Receiving objects:  91% (725/796), 302.69 MiB | 17.23 MiB/s   \r",
      "Receiving objects:  92% (733/796), 302.69 MiB | 17.23 MiB/s   \r",
      "Receiving objects:  93% (741/796), 302.69 MiB | 17.23 MiB/s   \r",
      "Receiving objects:  94% (749/796), 302.69 MiB | 17.23 MiB/s   \r",
      "Receiving objects:  95% (757/796), 302.69 MiB | 17.23 MiB/s   \r",
      "Receiving objects:  96% (765/796), 302.69 MiB | 17.23 MiB/s   \r",
      "Receiving objects:  97% (773/796), 302.69 MiB | 17.23 MiB/s   \r",
      "Receiving objects:  98% (781/796), 302.69 MiB | 17.23 MiB/s   \r",
      "Receiving objects:  99% (789/796), 302.69 MiB | 17.23 MiB/s   \r",
      "Receiving objects: 100% (796/796), 302.69 MiB | 17.23 MiB/s   \r",
      "Receiving objects: 100% (796/796), 317.75 MiB | 20.94 MiB/s, done.\r\n",
      "Resolving deltas:   0% (0/202)   \r",
      "Resolving deltas:   1% (3/202)   \r",
      "Resolving deltas:   2% (5/202)   \r",
      "Resolving deltas:   3% (8/202)   \r",
      "Resolving deltas:   4% (9/202)   \r",
      "Resolving deltas:   7% (15/202)   \r",
      "Resolving deltas:   8% (17/202)   \r",
      "Resolving deltas:   9% (19/202)   \r",
      "Resolving deltas:  10% (21/202)   \r",
      "Resolving deltas:  11% (24/202)   \r",
      "Resolving deltas:  13% (27/202)   \r"
     ]
    },
    {
     "name": "stdout",
     "output_type": "stream",
     "text": [
      "Resolving deltas:  14% (29/202)   \r",
      "Resolving deltas:  15% (32/202)   \r",
      "Resolving deltas:  17% (36/202)   \r",
      "Resolving deltas:  21% (44/202)   \r",
      "Resolving deltas:  22% (45/202)   \r",
      "Resolving deltas:  23% (47/202)   \r",
      "Resolving deltas:  24% (49/202)   \r",
      "Resolving deltas:  25% (52/202)   \r",
      "Resolving deltas:  29% (59/202)   \r",
      "Resolving deltas:  30% (62/202)   \r",
      "Resolving deltas:  31% (63/202)   \r",
      "Resolving deltas:  35% (71/202)   \r",
      "Resolving deltas:  36% (74/202)   \r",
      "Resolving deltas:  37% (75/202)   \r",
      "Resolving deltas:  38% (77/202)   \r",
      "Resolving deltas:  41% (84/202)   \r",
      "Resolving deltas:  44% (90/202)   \r",
      "Resolving deltas:  46% (93/202)   \r"
     ]
    },
    {
     "name": "stdout",
     "output_type": "stream",
     "text": [
      "Resolving deltas:  47% (96/202)   \r",
      "Resolving deltas:  48% (97/202)   \r",
      "Resolving deltas:  67% (136/202)   \r",
      "Resolving deltas:  69% (140/202)   \r",
      "Resolving deltas:  70% (142/202)   \r",
      "Resolving deltas:  85% (172/202)   \r",
      "Resolving deltas:  87% (176/202)   \r",
      "Resolving deltas:  96% (195/202)   \r",
      "Resolving deltas:  97% (196/202)   \r",
      "Resolving deltas:  98% (198/202)   \r"
     ]
    },
    {
     "name": "stdout",
     "output_type": "stream",
     "text": [
      "Resolving deltas:  99% (201/202)   \r"
     ]
    },
    {
     "name": "stdout",
     "output_type": "stream",
     "text": [
      "Resolving deltas: 100% (202/202)   \r",
      "Resolving deltas: 100% (202/202), done.\r\n"
     ]
    },
    {
     "name": "stdout",
     "output_type": "stream",
     "text": [
      "Cloning into 'clipit'...\r\n"
     ]
    },
    {
     "name": "stdout",
     "output_type": "stream",
     "text": [
      "remote: Enumerating objects: 807, done.\u001b[K\r\n",
      "remote: Counting objects:   0% (1/807)\u001b[K\r",
      "remote: Counting objects:   1% (9/807)\u001b[K\r",
      "remote: Counting objects:   2% (17/807)\u001b[K\r",
      "remote: Counting objects:   3% (25/807)\u001b[K\r",
      "remote: Counting objects:   4% (33/807)\u001b[K\r",
      "remote: Counting objects:   5% (41/807)\u001b[K\r",
      "remote: Counting objects:   6% (49/807)\u001b[K\r",
      "remote: Counting objects:   7% (57/807)\u001b[K\r",
      "remote: Counting objects:   8% (65/807)\u001b[K\r",
      "remote: Counting objects:   9% (73/807)\u001b[K\r",
      "remote: Counting objects:  10% (81/807)\u001b[K\r",
      "remote: Counting objects:  11% (89/807)\u001b[K\r",
      "remote: Counting objects:  12% (97/807)\u001b[K\r",
      "remote: Counting objects:  13% (105/807)\u001b[K\r",
      "remote: Counting objects:  14% (113/807)\u001b[K\r",
      "remote: Counting objects:  15% (122/807)\u001b[K\r",
      "remote: Counting objects:  16% (130/807)\u001b[K\r",
      "remote: Counting objects:  17% (138/807)\u001b[K\r",
      "remote: Counting objects:  18% (146/807)\u001b[K\r",
      "remote: Counting objects:  19% (154/807)\u001b[K\r",
      "remote: Counting objects:  20% (162/807)\u001b[K\r",
      "remote: Counting objects:  21% (170/807)\u001b[K\r",
      "remote: Counting objects:  22% (178/807)\u001b[K\r",
      "remote: Counting objects:  23% (186/807)\u001b[K\r",
      "remote: Counting objects:  24% (194/807)\u001b[K\r",
      "remote: Counting objects:  25% (202/807)\u001b[K\r",
      "remote: Counting objects:  26% (210/807)\u001b[K\r",
      "remote: Counting objects:  27% (218/807)\u001b[K\r",
      "remote: Counting objects:  28% (226/807)\u001b[K\r",
      "remote: Counting objects:  29% (235/807)\u001b[K\r",
      "remote: Counting objects:  30% (243/807)\u001b[K\r",
      "remote: Counting objects:  31% (251/807)\u001b[K\r",
      "remote: Counting objects:  32% (259/807)\u001b[K\r",
      "remote: Counting objects:  33% (267/807)\u001b[K\r",
      "remote: Counting objects:  34% (275/807)\u001b[K\r",
      "remote: Counting objects:  35% (283/807)\u001b[K\r",
      "remote: Counting objects:  36% (291/807)\u001b[K\r",
      "remote: Counting objects:  37% (299/807)\u001b[K\r",
      "remote: Counting objects:  38% (307/807)\u001b[K\r",
      "remote: Counting objects:  39% (315/807)\u001b[K\r",
      "remote: Counting objects:  40% (323/807)\u001b[K\r",
      "remote: Counting objects:  41% (331/807)\u001b[K\r",
      "remote: Counting objects:  42% (339/807)\u001b[K\r",
      "remote: Counting objects:  43% (348/807)\u001b[K\r",
      "remote: Counting objects:  44% (356/807)\u001b[K\r",
      "remote: Counting objects:  45% (364/807)\u001b[K\r",
      "remote: Counting objects:  46% (372/807)\u001b[K\r",
      "remote: Counting objects:  47% (380/807)\u001b[K\r",
      "remote: Counting objects:  48% (388/807)\u001b[K\r",
      "remote: Counting objects:  49% (396/807)\u001b[K\r",
      "remote: Counting objects:  50% (404/807)\u001b[K\r",
      "remote: Counting objects:  51% (412/807)\u001b[K\r",
      "remote: Counting objects:  52% (420/807)\u001b[K\r",
      "remote: Counting objects:  53% (428/807)\u001b[K\r",
      "remote: Counting objects:  54% (436/807)\u001b[K\r",
      "remote: Counting objects:  55% (444/807)\u001b[K\r",
      "remote: Counting objects:  56% (452/807)\u001b[K\r",
      "remote: Counting objects:  57% (460/807)\u001b[K\r",
      "remote: Counting objects:  58% (469/807)\u001b[K\r",
      "remote: Counting objects:  59% (477/807)\u001b[K\r",
      "remote: Counting objects:  60% (485/807)\u001b[K\r",
      "remote: Counting objects:  61% (493/807)\u001b[K\r",
      "remote: Counting objects:  62% (501/807)\u001b[K\r",
      "remote: Counting objects:  63% (509/807)\u001b[K\r",
      "remote: Counting objects:  64% (517/807)\u001b[K\r",
      "remote: Counting objects:  65% (525/807)\u001b[K\r",
      "remote: Counting objects:  66% (533/807)\u001b[K\r",
      "remote: Counting objects:  67% (541/807)\u001b[K\r",
      "remote: Counting objects:  68% (549/807)\u001b[K\r",
      "remote: Counting objects:  69% (557/807)\u001b[K\r",
      "remote: Counting objects:  70% (565/807)\u001b[K\r",
      "remote: Counting objects:  71% (573/807)\u001b[K\r",
      "remote: Counting objects:  72% (582/807)\u001b[K\r",
      "remote: Counting objects:  73% (590/807)\u001b[K\r",
      "remote: Counting objects:  74% (598/807)\u001b[K\r",
      "remote: Counting objects:  75% (606/807)\u001b[K\r",
      "remote: Counting objects:  76% (614/807)\u001b[K\r",
      "remote: Counting objects:  77% (622/807)\u001b[K\r",
      "remote: Counting objects:  78% (630/807)\u001b[K\r",
      "remote: Counting objects:  79% (638/807)\u001b[K\r",
      "remote: Counting objects:  80% (646/807)\u001b[K\r",
      "remote: Counting objects:  81% (654/807)\u001b[K\r",
      "remote: Counting objects:  82% (662/807)\u001b[K\r",
      "remote: Counting objects:  83% (670/807)\u001b[K\r",
      "remote: Counting objects:  84% (678/807)\u001b[K\r",
      "remote: Counting objects:  85% (686/807)\u001b[K\r",
      "remote: Counting objects:  86% (695/807)\u001b[K\r",
      "remote: Counting objects:  87% (703/807)\u001b[K\r",
      "remote: Counting objects:  88% (711/807)\u001b[K\r",
      "remote: Counting objects:  89% (719/807)\u001b[K\r",
      "remote: Counting objects:  90% (727/807)\u001b[K\r",
      "remote: Counting objects:  91% (735/807)\u001b[K\r",
      "remote: Counting objects:  92% (743/807)\u001b[K\r",
      "remote: Counting objects:  93% (751/807)\u001b[K\r",
      "remote: Counting objects:  94% (759/807)\u001b[K\r",
      "remote: Counting objects:  95% (767/807)\u001b[K\r",
      "remote: Counting objects:  96% (775/807)\u001b[K\r",
      "remote: Counting objects:  97% (783/807)\u001b[K\r",
      "remote: Counting objects:  98% (791/807)\u001b[K\r",
      "remote: Counting objects:  99% (799/807)\u001b[K\r",
      "remote: Counting objects: 100% (807/807)\u001b[K\r",
      "remote: Counting objects: 100% (807/807), done.\u001b[K\r\n",
      "remote: Compressing objects:   0% (1/373)\u001b[K\r",
      "remote: Compressing objects:   1% (4/373)\u001b[K\r",
      "remote: Compressing objects:   2% (8/373)\u001b[K\r",
      "remote: Compressing objects:   3% (12/373)\u001b[K\r",
      "remote: Compressing objects:   4% (15/373)\u001b[K\r",
      "remote: Compressing objects:   5% (19/373)\u001b[K\r",
      "remote: Compressing objects:   6% (23/373)\u001b[K\r",
      "remote: Compressing objects:   7% (27/373)\u001b[K\r",
      "remote: Compressing objects:   8% (30/373)\u001b[K\r",
      "remote: Compressing objects:   9% (34/373)\u001b[K\r",
      "remote: Compressing objects:  10% (38/373)\u001b[K\r",
      "remote: Compressing objects:  11% (42/373)\u001b[K\r",
      "remote: Compressing objects:  12% (45/373)\u001b[K\r",
      "remote: Compressing objects:  13% (49/373)\u001b[K\r",
      "remote: Compressing objects:  14% (53/373)\u001b[K\r",
      "remote: Compressing objects:  15% (56/373)\u001b[K\r"
     ]
    },
    {
     "name": "stdout",
     "output_type": "stream",
     "text": [
      "remote: Compressing objects:  16% (60/373)\u001b[K\r"
     ]
    },
    {
     "name": "stdout",
     "output_type": "stream",
     "text": [
      "remote: Compressing objects:  17% (64/373)\u001b[K\r"
     ]
    },
    {
     "name": "stdout",
     "output_type": "stream",
     "text": [
      "remote: Compressing objects:  18% (68/373)\u001b[K\r"
     ]
    },
    {
     "name": "stdout",
     "output_type": "stream",
     "text": [
      "remote: Compressing objects:  19% (71/373)\u001b[K\r",
      "remote: Compressing objects:  20% (75/373)\u001b[K\r",
      "remote: Compressing objects:  21% (79/373)\u001b[K\r",
      "remote: Compressing objects:  22% (83/373)\u001b[K\r",
      "remote: Compressing objects:  23% (86/373)\u001b[K\r",
      "remote: Compressing objects:  24% (90/373)\u001b[K\r",
      "remote: Compressing objects:  25% (94/373)\u001b[K\r",
      "remote: Compressing objects:  26% (97/373)\u001b[K\r",
      "remote: Compressing objects:  27% (101/373)\u001b[K\r",
      "remote: Compressing objects:  28% (105/373)\u001b[K\r",
      "remote: Compressing objects:  29% (109/373)\u001b[K\r",
      "remote: Compressing objects:  30% (112/373)\u001b[K\r",
      "remote: Compressing objects:  31% (116/373)\u001b[K\r",
      "remote: Compressing objects:  32% (120/373)\u001b[K\r",
      "remote: Compressing objects:  33% (124/373)\u001b[K\r",
      "remote: Compressing objects:  34% (127/373)\u001b[K\r",
      "remote: Compressing objects:  35% (131/373)\u001b[K\r",
      "remote: Compressing objects:  36% (135/373)\u001b[K\r",
      "remote: Compressing objects:  37% (139/373)\u001b[K\r",
      "remote: Compressing objects:  38% (142/373)\u001b[K\r",
      "remote: Compressing objects:  39% (146/373)\u001b[K\r",
      "remote: Compressing objects:  40% (150/373)\u001b[K\r",
      "remote: Compressing objects:  41% (153/373)\u001b[K\r",
      "remote: Compressing objects:  42% (157/373)\u001b[K\r",
      "remote: Compressing objects:  43% (161/373)\u001b[K\r",
      "remote: Compressing objects:  44% (165/373)\u001b[K\r",
      "remote: Compressing objects:  45% (168/373)\u001b[K\r",
      "remote: Compressing objects:  46% (172/373)\u001b[K\r",
      "remote: Compressing objects:  47% (176/373)\u001b[K\r",
      "remote: Compressing objects:  48% (180/373)\u001b[K\r",
      "remote: Compressing objects:  49% (183/373)\u001b[K\r",
      "remote: Compressing objects:  50% (187/373)\u001b[K\r",
      "remote: Compressing objects:  51% (191/373)\u001b[K\r",
      "remote: Compressing objects:  52% (194/373)\u001b[K\r",
      "remote: Compressing objects:  53% (198/373)\u001b[K\r",
      "remote: Compressing objects:  54% (202/373)\u001b[K\r",
      "remote: Compressing objects:  55% (206/373)\u001b[K\r",
      "remote: Compressing objects:  56% (209/373)\u001b[K\r",
      "remote: Compressing objects:  57% (213/373)\u001b[K\r",
      "remote: Compressing objects:  58% (217/373)\u001b[K\r",
      "remote: Compressing objects:  59% (221/373)\u001b[K\r",
      "remote: Compressing objects:  60% (224/373)\u001b[K\r",
      "remote: Compressing objects:  61% (228/373)\u001b[K\r",
      "remote: Compressing objects:  62% (232/373)\u001b[K\r",
      "remote: Compressing objects:  63% (235/373)\u001b[K\r",
      "remote: Compressing objects:  64% (239/373)\u001b[K\r",
      "remote: Compressing objects:  65% (243/373)\u001b[K\r",
      "remote: Compressing objects:  66% (247/373)\u001b[K\r",
      "remote: Compressing objects:  67% (250/373)\u001b[K\r",
      "remote: Compressing objects:  68% (254/373)\u001b[K\r",
      "remote: Compressing objects:  69% (258/373)\u001b[K\r",
      "remote: Compressing objects:  70% (262/373)\u001b[K\r",
      "remote: Compressing objects:  71% (265/373)\u001b[K\r",
      "remote: Compressing objects:  72% (269/373)\u001b[K\r",
      "remote: Compressing objects:  73% (273/373)\u001b[K\r",
      "remote: Compressing objects:  74% (277/373)\u001b[K\r",
      "remote: Compressing objects:  75% (280/373)\u001b[K\r",
      "remote: Compressing objects:  76% (284/373)\u001b[K\r",
      "remote: Compressing objects:  77% (288/373)\u001b[K\r",
      "remote: Compressing objects:  78% (291/373)\u001b[K\r",
      "remote: Compressing objects:  79% (295/373)\u001b[K\r",
      "remote: Compressing objects:  80% (299/373)\u001b[K\r",
      "remote: Compressing objects:  81% (303/373)\u001b[K\r",
      "remote: Compressing objects:  82% (306/373)\u001b[K\r",
      "remote: Compressing objects:  83% (310/373)\u001b[K\r",
      "remote: Compressing objects:  84% (314/373)\u001b[K\r",
      "remote: Compressing objects:  85% (318/373)\u001b[K\r",
      "remote: Compressing objects:  86% (321/373)\u001b[K\r",
      "remote: Compressing objects:  87% (325/373)\u001b[K\r",
      "remote: Compressing objects:  88% (329/373)\u001b[K\r",
      "remote: Compressing objects:  89% (332/373)\u001b[K\r",
      "remote: Compressing objects:  90% (336/373)\u001b[K\r",
      "remote: Compressing objects:  91% (340/373)\u001b[K\r",
      "remote: Compressing objects:  92% (344/373)\u001b[K\r",
      "remote: Compressing objects:  93% (347/373)\u001b[K\r",
      "remote: Compressing objects:  94% (351/373)\u001b[K\r",
      "remote: Compressing objects:  95% (355/373)\u001b[K\r",
      "remote: Compressing objects:  96% (359/373)\u001b[K\r",
      "remote: Compressing objects:  97% (362/373)\u001b[K\r",
      "remote: Compressing objects:  98% (366/373)\u001b[K\r",
      "remote: Compressing objects:  99% (370/373)\u001b[K\r",
      "remote: Compressing objects: 100% (373/373)\u001b[K\r",
      "remote: Compressing objects: 100% (373/373), done.\u001b[K\r\n",
      "Receiving objects:   0% (1/807)   \r",
      "Receiving objects:   1% (9/807)   \r",
      "Receiving objects:   2% (17/807)   \r",
      "Receiving objects:   3% (25/807)   \r",
      "Receiving objects:   4% (33/807)   \r",
      "Receiving objects:   5% (41/807)   \r",
      "Receiving objects:   6% (49/807)   \r",
      "Receiving objects:   7% (57/807)   \r",
      "Receiving objects:   8% (65/807)   \r",
      "Receiving objects:   9% (73/807)   \r",
      "Receiving objects:  10% (81/807)   \r",
      "Receiving objects:  11% (89/807)   \r",
      "Receiving objects:  12% (97/807)   \r",
      "Receiving objects:  13% (105/807)   \r",
      "Receiving objects:  14% (113/807)   \r",
      "Receiving objects:  15% (122/807)   \r",
      "Receiving objects:  16% (130/807)   \r"
     ]
    },
    {
     "name": "stdout",
     "output_type": "stream",
     "text": [
      "Receiving objects:  17% (138/807)   \r",
      "Receiving objects:  18% (146/807)   \r",
      "Receiving objects:  19% (154/807)   \r",
      "Receiving objects:  20% (162/807)   \r",
      "Receiving objects:  21% (170/807)   \r",
      "Receiving objects:  22% (178/807)   \r",
      "Receiving objects:  23% (186/807)   \r",
      "Receiving objects:  24% (194/807)   \r",
      "Receiving objects:  25% (202/807)   \r",
      "Receiving objects:  26% (210/807)   \r",
      "Receiving objects:  27% (218/807)   \r",
      "Receiving objects:  28% (226/807)   \r",
      "Receiving objects:  29% (235/807)   \r",
      "Receiving objects:  30% (243/807)   \r",
      "Receiving objects:  31% (251/807)   \r",
      "Receiving objects:  32% (259/807)   \r",
      "Receiving objects:  33% (267/807)   \r"
     ]
    },
    {
     "name": "stdout",
     "output_type": "stream",
     "text": [
      "Receiving objects:  34% (275/807)   \r"
     ]
    },
    {
     "name": "stdout",
     "output_type": "stream",
     "text": [
      "Receiving objects:  34% (276/807), 4.01 MiB | 1.80 MiB/s   \r"
     ]
    },
    {
     "name": "stdout",
     "output_type": "stream",
     "text": [
      "Receiving objects:  35% (283/807), 4.01 MiB | 1.80 MiB/s   \r",
      "Receiving objects:  36% (291/807), 4.01 MiB | 1.80 MiB/s   \r"
     ]
    },
    {
     "name": "stdout",
     "output_type": "stream",
     "text": [
      "Receiving objects:  37% (299/807), 4.01 MiB | 1.80 MiB/s   \r"
     ]
    },
    {
     "name": "stdout",
     "output_type": "stream",
     "text": [
      "Receiving objects:  38% (307/807), 4.01 MiB | 1.80 MiB/s   \r"
     ]
    },
    {
     "name": "stdout",
     "output_type": "stream",
     "text": [
      "Receiving objects:  38% (311/807), 29.79 MiB | 9.25 MiB/s   \r"
     ]
    },
    {
     "name": "stdout",
     "output_type": "stream",
     "text": [
      "Receiving objects:  39% (315/807), 41.05 MiB | 11.03 MiB/s   \r",
      "Receiving objects:  40% (323/807), 41.05 MiB | 11.03 MiB/s   \r",
      "Receiving objects:  41% (331/807), 41.05 MiB | 11.03 MiB/s   \r"
     ]
    },
    {
     "name": "stdout",
     "output_type": "stream",
     "text": [
      "Receiving objects:  42% (339/807), 41.05 MiB | 11.03 MiB/s   \r",
      "Receiving objects:  43% (348/807), 41.05 MiB | 11.03 MiB/s   \r",
      "Receiving objects:  44% (356/807), 41.05 MiB | 11.03 MiB/s   \r",
      "Receiving objects:  45% (364/807), 41.05 MiB | 11.03 MiB/s   \r",
      "Receiving objects:  46% (372/807), 41.05 MiB | 11.03 MiB/s   \r"
     ]
    },
    {
     "name": "stdout",
     "output_type": "stream",
     "text": [
      "Receiving objects:  46% (377/807), 41.05 MiB | 11.03 MiB/s   \r",
      "Receiving objects:  47% (380/807), 41.05 MiB | 11.03 MiB/s   \r",
      "Receiving objects:  48% (388/807), 41.05 MiB | 11.03 MiB/s   \r",
      "Receiving objects:  49% (396/807), 41.05 MiB | 11.03 MiB/s   \r",
      "Receiving objects:  50% (404/807), 41.05 MiB | 11.03 MiB/s   \r",
      "Receiving objects:  51% (412/807), 41.05 MiB | 11.03 MiB/s   \r",
      "Receiving objects:  52% (420/807), 41.05 MiB | 11.03 MiB/s   \r",
      "Receiving objects:  53% (428/807), 41.05 MiB | 11.03 MiB/s   \r",
      "Receiving objects:  54% (436/807), 41.05 MiB | 11.03 MiB/s   \r"
     ]
    },
    {
     "name": "stdout",
     "output_type": "stream",
     "text": [
      "Receiving objects:  55% (444/807), 41.05 MiB | 11.03 MiB/s   \r",
      "Receiving objects:  56% (452/807), 41.05 MiB | 11.03 MiB/s   \r"
     ]
    },
    {
     "name": "stdout",
     "output_type": "stream",
     "text": [
      "Receiving objects:  57% (460/807), 41.05 MiB | 11.03 MiB/s   \r",
      "Receiving objects:  58% (469/807), 41.05 MiB | 11.03 MiB/s   \r",
      "Receiving objects:  59% (477/807), 41.05 MiB | 11.03 MiB/s   \r",
      "Receiving objects:  60% (485/807), 41.05 MiB | 11.03 MiB/s   \r",
      "Receiving objects:  61% (493/807), 41.05 MiB | 11.03 MiB/s   \r",
      "Receiving objects:  62% (501/807), 41.05 MiB | 11.03 MiB/s   \r",
      "Receiving objects:  63% (509/807), 41.05 MiB | 11.03 MiB/s   \r"
     ]
    },
    {
     "name": "stdout",
     "output_type": "stream",
     "text": [
      "Receiving objects:  64% (517/807), 52.21 MiB | 12.37 MiB/s   \r",
      "Receiving objects:  65% (525/807), 52.21 MiB | 12.37 MiB/s   \r",
      "Receiving objects:  66% (533/807), 52.21 MiB | 12.37 MiB/s   \r"
     ]
    },
    {
     "name": "stdout",
     "output_type": "stream",
     "text": [
      "Receiving objects:  67% (541/807), 52.21 MiB | 12.37 MiB/s   \r"
     ]
    },
    {
     "name": "stdout",
     "output_type": "stream",
     "text": [
      "Receiving objects:  68% (549/807), 52.21 MiB | 12.37 MiB/s   \r",
      "Receiving objects:  69% (557/807), 52.21 MiB | 12.37 MiB/s   \r",
      "Receiving objects:  70% (565/807), 52.21 MiB | 12.37 MiB/s   \r",
      "Receiving objects:  71% (573/807), 52.21 MiB | 12.37 MiB/s   \r",
      "Receiving objects:  72% (582/807), 52.21 MiB | 12.37 MiB/s   \r",
      "Receiving objects:  73% (590/807), 52.21 MiB | 12.37 MiB/s   \r",
      "Receiving objects:  74% (598/807), 52.21 MiB | 12.37 MiB/s   \r",
      "Receiving objects:  75% (606/807), 52.21 MiB | 12.37 MiB/s   \r",
      "Receiving objects:  76% (614/807), 52.21 MiB | 12.37 MiB/s   \r",
      "Receiving objects:  77% (622/807), 52.21 MiB | 12.37 MiB/s   \r",
      "Receiving objects:  78% (630/807), 52.21 MiB | 12.37 MiB/s   \r",
      "Receiving objects:  79% (638/807), 52.21 MiB | 12.37 MiB/s   \r",
      "Receiving objects:  80% (646/807), 52.21 MiB | 12.37 MiB/s   \r",
      "Receiving objects:  81% (654/807), 52.21 MiB | 12.37 MiB/s   \r",
      "Receiving objects:  82% (662/807), 52.21 MiB | 12.37 MiB/s   \r",
      "Receiving objects:  83% (670/807), 52.21 MiB | 12.37 MiB/s   \r",
      "Receiving objects:  84% (678/807), 52.21 MiB | 12.37 MiB/s   \r",
      "Receiving objects:  85% (686/807), 52.21 MiB | 12.37 MiB/s   \r",
      "Receiving objects:  86% (695/807), 52.21 MiB | 12.37 MiB/s   \r",
      "Receiving objects:  87% (703/807), 52.21 MiB | 12.37 MiB/s   \r",
      "Receiving objects:  88% (711/807), 52.21 MiB | 12.37 MiB/s   \r",
      "Receiving objects:  89% (719/807), 52.21 MiB | 12.37 MiB/s   \r",
      "Receiving objects:  90% (727/807), 52.21 MiB | 12.37 MiB/s   \r",
      "Receiving objects:  91% (735/807), 52.21 MiB | 12.37 MiB/s   \r",
      "Receiving objects:  92% (743/807), 52.21 MiB | 12.37 MiB/s   \r",
      "Receiving objects:  93% (751/807), 52.21 MiB | 12.37 MiB/s   \r"
     ]
    },
    {
     "name": "stdout",
     "output_type": "stream",
     "text": [
      "remote: Total 807 (delta 472), reused 759 (delta 427), pack-reused 0\u001b[K\r\n",
      "Receiving objects:  94% (759/807), 52.21 MiB | 12.37 MiB/s   \r",
      "Receiving objects:  95% (767/807), 52.21 MiB | 12.37 MiB/s   \r",
      "Receiving objects:  96% (775/807), 52.21 MiB | 12.37 MiB/s   \r",
      "Receiving objects:  97% (783/807), 52.21 MiB | 12.37 MiB/s   \r",
      "Receiving objects:  98% (791/807), 52.21 MiB | 12.37 MiB/s   \r",
      "Receiving objects:  99% (799/807), 52.21 MiB | 12.37 MiB/s   \r",
      "Receiving objects: 100% (807/807), 52.21 MiB | 12.37 MiB/s   \r",
      "Receiving objects: 100% (807/807), 58.12 MiB | 12.97 MiB/s, done.\r\n",
      "Resolving deltas:   0% (0/472)   \r",
      "Resolving deltas:   2% (11/472)   \r",
      "Resolving deltas:   7% (36/472)   \r",
      "Resolving deltas:  51% (244/472)   \r",
      "Resolving deltas:  55% (264/472)   \r",
      "Resolving deltas:  56% (265/472)   \r",
      "Resolving deltas:  57% (273/472)   \r",
      "Resolving deltas:  58% (276/472)   \r",
      "Resolving deltas:  59% (280/472)   \r",
      "Resolving deltas:  61% (290/472)   \r",
      "Resolving deltas:  63% (302/472)   \r",
      "Resolving deltas:  66% (314/472)   \r",
      "Resolving deltas:  68% (322/472)   \r",
      "Resolving deltas:  71% (338/472)   \r",
      "Resolving deltas:  72% (341/472)   \r",
      "Resolving deltas:  73% (346/472)   \r",
      "Resolving deltas:  74% (351/472)   \r",
      "Resolving deltas:  80% (381/472)   \r",
      "Resolving deltas:  81% (385/472)   \r",
      "Resolving deltas:  82% (388/472)   \r",
      "Resolving deltas:  99% (471/472)   \r"
     ]
    },
    {
     "name": "stdout",
     "output_type": "stream",
     "text": [
      "Resolving deltas: 100% (472/472)   \r",
      "Resolving deltas: 100% (472/472), done.\r\n"
     ]
    }
   ],
   "source": [
    "!git clone https://github.com/openai/CLIP\n",
    "!git clone https://github.com/CompVis/taming-transformers.git\n",
    "!git clone https://github.com/dribnet/clipit"
   ]
  },
  {
   "cell_type": "code",
   "execution_count": null,
   "id": "f16876e5-f864-45e8-ac95-8ac08856571e",
   "metadata": {
    "collapsed": false,
    "gradient": {
     "editing": false,
     "source_hidden": false
    }
   },
   "outputs": [
    {
     "name": "stdout",
     "output_type": "stream",
     "text": [
      "\u001b[31mERROR: Need an action (dir, info, list, purge, remove) to perform.\u001b[0m\r\n"
     ]
    }
   ],
   "source": [
    "# !conda install -y -c conda-forge ipywidgets\n",
    "!pip cache remove"
   ]
  },
  {
   "cell_type": "code",
   "execution_count": null,
   "id": "6381967f-394a-4ddb-abd5-46f9b8a3b52b",
   "metadata": {
    "collapsed": false,
    "gradient": {
     "editing": false,
     "source_hidden": false
    }
   },
   "outputs": [
    {
     "name": "stdout",
     "output_type": "stream",
     "text": [
      "^C\r\n"
     ]
    }
   ],
   "source": [
    "!python pixeldraw.py"
   ]
  },
  {
   "cell_type": "code",
   "execution_count": null,
   "id": "fcc83371-8afd-4c02-936b-2e6c83a8346d",
   "metadata": {
    "collapsed": false,
    "gradient": {
     "editing": false,
     "source_hidden": false
    }
   },
   "outputs": [
    {
     "name": "stdout",
     "output_type": "stream",
     "text": [
      "Using device: cuda:0\n",
      "Optimising using: Adam\n",
      "Using text prompts: ['Creating your first Paperspace Gradient Workflow #pixelart']\n",
      "Using seed: 7686155910697053847\n"
     ]
    },
    {
     "name": "stderr",
     "output_type": "stream",
     "text": [
      "\r",
      "0it [00:00, ?it/s]"
     ]
    },
    {
     "name": "stderr",
     "output_type": "stream",
     "text": [
      "\r",
      "                  "
     ]
    },
    {
     "name": "stderr",
     "output_type": "stream",
     "text": [
      "\r"
     ]
    },
    {
     "name": "stderr",
     "output_type": "stream",
     "text": [
      "\r",
      "0it [00:00, ?it/s]"
     ]
    },
    {
     "name": "stdout",
     "output_type": "stream",
     "text": [
      "iter: 0, loss: 2.67303, losses: 0.943753, 0.853335, 0.87594\n"
     ]
    },
    {
     "name": "stderr",
     "output_type": "stream",
     "text": [
      "\r",
      "1it [00:03,  3.32s/it]"
     ]
    },
    {
     "name": "stderr",
     "output_type": "stream",
     "text": [
      "\r",
      "2it [00:04,  2.17s/it]"
     ]
    },
    {
     "name": "stderr",
     "output_type": "stream",
     "text": [
      "\r",
      "3it [00:06,  1.89s/it]"
     ]
    },
    {
     "name": "stderr",
     "output_type": "stream",
     "text": [
      "\r",
      "4it [00:07,  1.65s/it]"
     ]
    },
    {
     "name": "stderr",
     "output_type": "stream",
     "text": [
      "\r",
      "5it [00:08,  1.55s/it]"
     ]
    },
    {
     "name": "stderr",
     "output_type": "stream",
     "text": [
      "\r",
      "6it [00:10,  1.49s/it]"
     ]
    },
    {
     "name": "stderr",
     "output_type": "stream",
     "text": [
      "\r",
      "7it [00:11,  1.44s/it]"
     ]
    },
    {
     "name": "stderr",
     "output_type": "stream",
     "text": [
      "\r",
      "8it [00:13,  1.43s/it]"
     ]
    },
    {
     "name": "stderr",
     "output_type": "stream",
     "text": [
      "\r",
      "9it [00:14,  1.46s/it]"
     ]
    },
    {
     "name": "stderr",
     "output_type": "stream",
     "text": [
      "\r",
      "10it [00:15,  1.43s/it]"
     ]
    },
    {
     "name": "stderr",
     "output_type": "stream",
     "text": [
      "\r",
      "                       "
     ]
    },
    {
     "name": "stderr",
     "output_type": "stream",
     "text": [
      "\r"
     ]
    },
    {
     "name": "stderr",
     "output_type": "stream",
     "text": [
      "\r",
      "10it [00:16,  1.43s/it]"
     ]
    },
    {
     "name": "stdout",
     "output_type": "stream",
     "text": [
      "iter: 10, loss: 2.561, losses: 0.921299, 0.811003, 0.828702\n"
     ]
    },
    {
     "name": "stderr",
     "output_type": "stream",
     "text": [
      "\r",
      "11it [00:18,  1.79s/it]"
     ]
    },
    {
     "name": "stderr",
     "output_type": "stream",
     "text": [
      "\r",
      "12it [00:19,  1.65s/it]"
     ]
    },
    {
     "name": "stderr",
     "output_type": "stream",
     "text": [
      "\r",
      "13it [00:21,  1.58s/it]"
     ]
    },
    {
     "name": "stderr",
     "output_type": "stream",
     "text": [
      "\r",
      "14it [00:22,  1.58s/it]"
     ]
    },
    {
     "name": "stderr",
     "output_type": "stream",
     "text": [
      "\r",
      "15it [00:24,  1.52s/it]"
     ]
    },
    {
     "name": "stderr",
     "output_type": "stream",
     "text": [
      "\r",
      "16it [00:25,  1.49s/it]"
     ]
    },
    {
     "name": "stderr",
     "output_type": "stream",
     "text": [
      "\r",
      "17it [00:27,  1.46s/it]"
     ]
    },
    {
     "name": "stderr",
     "output_type": "stream",
     "text": [
      "\r",
      "18it [00:28,  1.43s/it]"
     ]
    },
    {
     "name": "stderr",
     "output_type": "stream",
     "text": [
      "\r",
      "19it [00:29,  1.39s/it]"
     ]
    },
    {
     "name": "stderr",
     "output_type": "stream",
     "text": [
      "\r",
      "20it [00:31,  1.42s/it]"
     ]
    },
    {
     "name": "stderr",
     "output_type": "stream",
     "text": [
      "\r",
      "                       "
     ]
    },
    {
     "name": "stderr",
     "output_type": "stream",
     "text": [
      "\r"
     ]
    },
    {
     "name": "stderr",
     "output_type": "stream",
     "text": [
      "\r",
      "20it [00:31,  1.42s/it]"
     ]
    },
    {
     "name": "stdout",
     "output_type": "stream",
     "text": [
      "iter: 20, loss: 2.51133, losses: 0.907196, 0.800106, 0.804028\n"
     ]
    },
    {
     "name": "stderr",
     "output_type": "stream",
     "text": [
      "\r",
      "21it [00:33,  1.67s/it]"
     ]
    },
    {
     "name": "stderr",
     "output_type": "stream",
     "text": [
      "\r",
      "22it [00:34,  1.58s/it]"
     ]
    },
    {
     "name": "stderr",
     "output_type": "stream",
     "text": [
      "\r",
      "23it [00:36,  1.49s/it]"
     ]
    },
    {
     "name": "stderr",
     "output_type": "stream",
     "text": [
      "\r",
      "24it [00:37,  1.44s/it]"
     ]
    },
    {
     "name": "stderr",
     "output_type": "stream",
     "text": [
      "\r",
      "25it [00:38,  1.47s/it]"
     ]
    },
    {
     "name": "stderr",
     "output_type": "stream",
     "text": [
      "\r",
      "26it [00:40,  1.44s/it]"
     ]
    },
    {
     "name": "stderr",
     "output_type": "stream",
     "text": [
      "\r",
      "27it [00:41,  1.40s/it]"
     ]
    },
    {
     "name": "stderr",
     "output_type": "stream",
     "text": [
      "\r",
      "28it [00:42,  1.36s/it]"
     ]
    },
    {
     "name": "stderr",
     "output_type": "stream",
     "text": [
      "\r",
      "29it [00:44,  1.36s/it]"
     ]
    },
    {
     "name": "stderr",
     "output_type": "stream",
     "text": [
      "\r",
      "30it [00:45,  1.41s/it]"
     ]
    },
    {
     "name": "stderr",
     "output_type": "stream",
     "text": [
      "\r",
      "                       "
     ]
    },
    {
     "name": "stderr",
     "output_type": "stream",
     "text": [
      "\r"
     ]
    },
    {
     "name": "stderr",
     "output_type": "stream",
     "text": [
      "\r",
      "30it [00:46,  1.41s/it]"
     ]
    },
    {
     "name": "stdout",
     "output_type": "stream",
     "text": [
      "iter: 30, loss: 2.46588, losses: 0.897427, 0.77887, 0.789586\n"
     ]
    },
    {
     "name": "stderr",
     "output_type": "stream",
     "text": [
      "\r",
      "31it [00:48,  1.73s/it]"
     ]
    },
    {
     "name": "stderr",
     "output_type": "stream",
     "text": [
      "\r",
      "32it [00:49,  1.62s/it]"
     ]
    },
    {
     "name": "stderr",
     "output_type": "stream",
     "text": [
      "\r",
      "33it [00:51,  1.59s/it]"
     ]
    },
    {
     "name": "stderr",
     "output_type": "stream",
     "text": [
      "\r",
      "34it [00:52,  1.51s/it]"
     ]
    },
    {
     "name": "stderr",
     "output_type": "stream",
     "text": [
      "\r",
      "35it [00:53,  1.51s/it]"
     ]
    },
    {
     "name": "stderr",
     "output_type": "stream",
     "text": [
      "\r",
      "36it [00:55,  1.48s/it]"
     ]
    },
    {
     "name": "stderr",
     "output_type": "stream",
     "text": [
      "\r",
      "37it [00:56,  1.47s/it]"
     ]
    },
    {
     "name": "stderr",
     "output_type": "stream",
     "text": [
      "\r",
      "38it [00:58,  1.41s/it]"
     ]
    },
    {
     "name": "stderr",
     "output_type": "stream",
     "text": [
      "\r",
      "39it [00:59,  1.38s/it]"
     ]
    },
    {
     "name": "stderr",
     "output_type": "stream",
     "text": [
      "\r",
      "40it [01:00,  1.35s/it]"
     ]
    },
    {
     "name": "stderr",
     "output_type": "stream",
     "text": [
      "\r",
      "                       "
     ]
    },
    {
     "name": "stderr",
     "output_type": "stream",
     "text": [
      "\r"
     ]
    },
    {
     "name": "stderr",
     "output_type": "stream",
     "text": [
      "\r",
      "40it [01:01,  1.35s/it]"
     ]
    },
    {
     "name": "stdout",
     "output_type": "stream",
     "text": [
      "iter: 40, loss: 2.46706, losses: 0.894364, 0.77748, 0.795213\n"
     ]
    },
    {
     "name": "stderr",
     "output_type": "stream",
     "text": [
      "\r",
      "41it [01:03,  1.76s/it]"
     ]
    },
    {
     "name": "stderr",
     "output_type": "stream",
     "text": [
      "\r",
      "42it [01:04,  1.63s/it]"
     ]
    },
    {
     "name": "stderr",
     "output_type": "stream",
     "text": [
      "\r",
      "43it [01:06,  1.52s/it]"
     ]
    },
    {
     "name": "stderr",
     "output_type": "stream",
     "text": [
      "\r",
      "44it [01:07,  1.45s/it]"
     ]
    },
    {
     "name": "stderr",
     "output_type": "stream",
     "text": [
      "\r",
      "45it [01:08,  1.41s/it]"
     ]
    },
    {
     "name": "stderr",
     "output_type": "stream",
     "text": [
      "\r",
      "46it [01:09,  1.39s/it]"
     ]
    },
    {
     "name": "stderr",
     "output_type": "stream",
     "text": [
      "\r",
      "47it [01:11,  1.44s/it]"
     ]
    },
    {
     "name": "stderr",
     "output_type": "stream",
     "text": [
      "\r",
      "48it [01:12,  1.42s/it]"
     ]
    },
    {
     "name": "stderr",
     "output_type": "stream",
     "text": [
      "\r",
      "49it [01:14,  1.40s/it]"
     ]
    },
    {
     "name": "stderr",
     "output_type": "stream",
     "text": [
      "\r",
      "50it [01:15,  1.41s/it]"
     ]
    },
    {
     "name": "stderr",
     "output_type": "stream",
     "text": [
      "\r",
      "                       "
     ]
    },
    {
     "name": "stderr",
     "output_type": "stream",
     "text": [
      "\r"
     ]
    },
    {
     "name": "stderr",
     "output_type": "stream",
     "text": [
      "\r",
      "50it [01:16,  1.41s/it]"
     ]
    },
    {
     "name": "stdout",
     "output_type": "stream",
     "text": [
      "iter: 50, loss: 2.45103, losses: 0.886802, 0.773033, 0.791195\n"
     ]
    },
    {
     "name": "stderr",
     "output_type": "stream",
     "text": [
      "\r",
      "51it [01:18,  1.78s/it]"
     ]
    },
    {
     "name": "stderr",
     "output_type": "stream",
     "text": [
      "\r",
      "52it [01:20,  1.75s/it]"
     ]
    },
    {
     "name": "stderr",
     "output_type": "stream",
     "text": [
      "\r",
      "53it [01:21,  1.62s/it]"
     ]
    },
    {
     "name": "stderr",
     "output_type": "stream",
     "text": [
      "\r",
      "54it [01:22,  1.56s/it]"
     ]
    },
    {
     "name": "stderr",
     "output_type": "stream",
     "text": [
      "\r",
      "55it [01:24,  1.53s/it]"
     ]
    },
    {
     "name": "stderr",
     "output_type": "stream",
     "text": [
      "\r",
      "56it [01:25,  1.47s/it]"
     ]
    },
    {
     "name": "stderr",
     "output_type": "stream",
     "text": [
      "\r",
      "57it [01:27,  1.48s/it]"
     ]
    },
    {
     "name": "stderr",
     "output_type": "stream",
     "text": [
      "\r",
      "58it [01:28,  1.48s/it]"
     ]
    },
    {
     "name": "stderr",
     "output_type": "stream",
     "text": [
      "\r",
      "59it [01:29,  1.42s/it]"
     ]
    },
    {
     "name": "stderr",
     "output_type": "stream",
     "text": [
      "\r",
      "60it [01:31,  1.40s/it]"
     ]
    },
    {
     "name": "stderr",
     "output_type": "stream",
     "text": [
      "\r",
      "                       "
     ]
    },
    {
     "name": "stderr",
     "output_type": "stream",
     "text": [
      "\r"
     ]
    },
    {
     "name": "stderr",
     "output_type": "stream",
     "text": [
      "\r",
      "60it [01:31,  1.40s/it]"
     ]
    },
    {
     "name": "stdout",
     "output_type": "stream",
     "text": [
      "iter: 60, loss: 2.42522, losses: 0.873225, 0.768913, 0.783081\n"
     ]
    },
    {
     "name": "stderr",
     "output_type": "stream",
     "text": [
      "\r",
      "61it [01:33,  1.61s/it]"
     ]
    },
    {
     "name": "stderr",
     "output_type": "stream",
     "text": [
      "\r",
      "62it [01:34,  1.52s/it]"
     ]
    },
    {
     "name": "stderr",
     "output_type": "stream",
     "text": [
      "\r",
      "63it [01:36,  1.49s/it]"
     ]
    },
    {
     "name": "stderr",
     "output_type": "stream",
     "text": [
      "\r",
      "64it [01:37,  1.47s/it]"
     ]
    },
    {
     "name": "stderr",
     "output_type": "stream",
     "text": [
      "\r",
      "65it [01:38,  1.43s/it]"
     ]
    },
    {
     "name": "stderr",
     "output_type": "stream",
     "text": [
      "\r",
      "66it [01:40,  1.46s/it]"
     ]
    },
    {
     "name": "stderr",
     "output_type": "stream",
     "text": [
      "\r",
      "67it [01:41,  1.45s/it]"
     ]
    },
    {
     "name": "stderr",
     "output_type": "stream",
     "text": [
      "\r",
      "68it [01:42,  1.40s/it]"
     ]
    },
    {
     "name": "stderr",
     "output_type": "stream",
     "text": [
      "\r",
      "69it [01:44,  1.45s/it]"
     ]
    },
    {
     "name": "stderr",
     "output_type": "stream",
     "text": [
      "\r",
      "70it [01:45,  1.40s/it]"
     ]
    },
    {
     "name": "stderr",
     "output_type": "stream",
     "text": [
      "\r",
      "                       "
     ]
    },
    {
     "name": "stderr",
     "output_type": "stream",
     "text": [
      "\r"
     ]
    },
    {
     "name": "stderr",
     "output_type": "stream",
     "text": [
      "\r",
      "70it [01:46,  1.40s/it]"
     ]
    },
    {
     "name": "stdout",
     "output_type": "stream",
     "text": [
      "iter: 70, loss: 2.41007, losses: 0.863494, 0.766127, 0.78045\n"
     ]
    },
    {
     "name": "stderr",
     "output_type": "stream",
     "text": [
      "\r",
      "71it [01:48,  1.74s/it]"
     ]
    },
    {
     "name": "stderr",
     "output_type": "stream",
     "text": [
      "\r",
      "72it [01:49,  1.65s/it]"
     ]
    },
    {
     "name": "stderr",
     "output_type": "stream",
     "text": [
      "\r",
      "73it [01:51,  1.57s/it]"
     ]
    },
    {
     "name": "stderr",
     "output_type": "stream",
     "text": [
      "\r",
      "74it [01:52,  1.55s/it]"
     ]
    },
    {
     "name": "stderr",
     "output_type": "stream",
     "text": [
      "\r",
      "75it [01:54,  1.49s/it]"
     ]
    },
    {
     "name": "stderr",
     "output_type": "stream",
     "text": [
      "\r",
      "76it [01:55,  1.46s/it]"
     ]
    },
    {
     "name": "stderr",
     "output_type": "stream",
     "text": [
      "\r",
      "77it [01:56,  1.41s/it]"
     ]
    },
    {
     "name": "stderr",
     "output_type": "stream",
     "text": [
      "\r",
      "78it [01:58,  1.38s/it]"
     ]
    },
    {
     "name": "stderr",
     "output_type": "stream",
     "text": [
      "\r",
      "79it [01:59,  1.37s/it]"
     ]
    },
    {
     "name": "stderr",
     "output_type": "stream",
     "text": [
      "\r",
      "80it [02:00,  1.40s/it]"
     ]
    },
    {
     "name": "stderr",
     "output_type": "stream",
     "text": [
      "\r",
      "                       "
     ]
    },
    {
     "name": "stderr",
     "output_type": "stream",
     "text": [
      "\r"
     ]
    },
    {
     "name": "stderr",
     "output_type": "stream",
     "text": [
      "\r",
      "80it [02:01,  1.40s/it]"
     ]
    },
    {
     "name": "stdout",
     "output_type": "stream",
     "text": [
      "iter: 80, loss: 2.36495, losses: 0.84409, 0.756597, 0.764259\n"
     ]
    },
    {
     "name": "stderr",
     "output_type": "stream",
     "text": [
      "\r",
      "81it [02:03,  1.71s/it]"
     ]
    },
    {
     "name": "stderr",
     "output_type": "stream",
     "text": [
      "\r",
      "82it [02:04,  1.58s/it]"
     ]
    },
    {
     "name": "stderr",
     "output_type": "stream",
     "text": [
      "\r",
      "83it [02:05,  1.50s/it]"
     ]
    },
    {
     "name": "stderr",
     "output_type": "stream",
     "text": [
      "\r",
      "84it [02:07,  1.45s/it]"
     ]
    },
    {
     "name": "stderr",
     "output_type": "stream",
     "text": [
      "\r",
      "85it [02:08,  1.45s/it]"
     ]
    },
    {
     "name": "stderr",
     "output_type": "stream",
     "text": [
      "\r",
      "86it [02:09,  1.41s/it]"
     ]
    },
    {
     "name": "stderr",
     "output_type": "stream",
     "text": [
      "\r",
      "87it [02:11,  1.40s/it]"
     ]
    },
    {
     "name": "stderr",
     "output_type": "stream",
     "text": [
      "\r",
      "88it [02:12,  1.40s/it]"
     ]
    },
    {
     "name": "stderr",
     "output_type": "stream",
     "text": [
      "\r",
      "89it [02:14,  1.38s/it]"
     ]
    },
    {
     "name": "stderr",
     "output_type": "stream",
     "text": [
      "\r",
      "90it [02:15,  1.38s/it]"
     ]
    },
    {
     "name": "stderr",
     "output_type": "stream",
     "text": [
      "\r",
      "                       "
     ]
    },
    {
     "name": "stderr",
     "output_type": "stream",
     "text": [
      "\r"
     ]
    },
    {
     "name": "stderr",
     "output_type": "stream",
     "text": [
      "\r",
      "90it [02:16,  1.38s/it]"
     ]
    },
    {
     "name": "stdout",
     "output_type": "stream",
     "text": [
      "iter: 90, loss: 2.38892, losses: 0.853929, 0.762556, 0.772431\n"
     ]
    },
    {
     "name": "stderr",
     "output_type": "stream",
     "text": [
      "\r",
      "91it [02:18,  1.80s/it]"
     ]
    },
    {
     "name": "stderr",
     "output_type": "stream",
     "text": [
      "\r",
      "92it [02:19,  1.65s/it]"
     ]
    },
    {
     "name": "stderr",
     "output_type": "stream",
     "text": [
      "\r",
      "93it [02:20,  1.58s/it]"
     ]
    },
    {
     "name": "stderr",
     "output_type": "stream",
     "text": [
      "\r",
      "94it [02:22,  1.50s/it]"
     ]
    },
    {
     "name": "stderr",
     "output_type": "stream",
     "text": [
      "\r",
      "95it [02:23,  1.45s/it]"
     ]
    },
    {
     "name": "stderr",
     "output_type": "stream",
     "text": [
      "\r",
      "96it [02:25,  1.49s/it]"
     ]
    },
    {
     "name": "stderr",
     "output_type": "stream",
     "text": [
      "\r",
      "97it [02:26,  1.44s/it]"
     ]
    },
    {
     "name": "stderr",
     "output_type": "stream",
     "text": [
      "\r",
      "98it [02:27,  1.41s/it]"
     ]
    },
    {
     "name": "stderr",
     "output_type": "stream",
     "text": [
      "\r",
      "99it [02:29,  1.38s/it]"
     ]
    },
    {
     "name": "stderr",
     "output_type": "stream",
     "text": [
      "\r",
      "100it [02:30,  1.36s/it]"
     ]
    },
    {
     "name": "stderr",
     "output_type": "stream",
     "text": [
      "\r",
      "                        "
     ]
    },
    {
     "name": "stderr",
     "output_type": "stream",
     "text": [
      "\r"
     ]
    },
    {
     "name": "stderr",
     "output_type": "stream",
     "text": [
      "\r",
      "100it [02:30,  1.36s/it]"
     ]
    },
    {
     "name": "stdout",
     "output_type": "stream",
     "text": [
      "iter: 100, loss: 2.36945, losses: 0.849155, 0.754957, 0.765338\n"
     ]
    },
    {
     "name": "stderr",
     "output_type": "stream",
     "text": [
      "\r",
      "101it [02:33,  1.83s/it]"
     ]
    },
    {
     "name": "stderr",
     "output_type": "stream",
     "text": [
      "\r",
      "102it [02:34,  1.68s/it]"
     ]
    },
    {
     "name": "stderr",
     "output_type": "stream",
     "text": [
      "\r",
      "103it [02:36,  1.59s/it]"
     ]
    },
    {
     "name": "stderr",
     "output_type": "stream",
     "text": [
      "\r",
      "104it [02:37,  1.50s/it]"
     ]
    },
    {
     "name": "stderr",
     "output_type": "stream",
     "text": [
      "\r",
      "105it [02:38,  1.48s/it]"
     ]
    },
    {
     "name": "stderr",
     "output_type": "stream",
     "text": [
      "\r",
      "106it [02:40,  1.45s/it]"
     ]
    },
    {
     "name": "stderr",
     "output_type": "stream",
     "text": [
      "\r",
      "107it [02:41,  1.43s/it]"
     ]
    },
    {
     "name": "stderr",
     "output_type": "stream",
     "text": [
      "\r",
      "108it [02:43,  1.47s/it]"
     ]
    },
    {
     "name": "stderr",
     "output_type": "stream",
     "text": [
      "\r",
      "109it [02:44,  1.41s/it]"
     ]
    },
    {
     "name": "stderr",
     "output_type": "stream",
     "text": [
      "\r",
      "110it [02:45,  1.39s/it]"
     ]
    },
    {
     "name": "stderr",
     "output_type": "stream",
     "text": [
      "\r",
      "                        "
     ]
    },
    {
     "name": "stderr",
     "output_type": "stream",
     "text": [
      "\r"
     ]
    },
    {
     "name": "stderr",
     "output_type": "stream",
     "text": [
      "\r",
      "110it [02:46,  1.39s/it]"
     ]
    },
    {
     "name": "stdout",
     "output_type": "stream",
     "text": [
      "iter: 110, loss: 2.36498, losses: 0.84583, 0.754841, 0.764305\n"
     ]
    },
    {
     "name": "stderr",
     "output_type": "stream",
     "text": [
      "\r",
      "111it [02:48,  1.75s/it]"
     ]
    },
    {
     "name": "stderr",
     "output_type": "stream",
     "text": [
      "\r",
      "112it [02:49,  1.69s/it]"
     ]
    },
    {
     "name": "stderr",
     "output_type": "stream",
     "text": [
      "\r",
      "113it [02:51,  1.64s/it]"
     ]
    },
    {
     "name": "stderr",
     "output_type": "stream",
     "text": [
      "\r",
      "114it [02:52,  1.58s/it]"
     ]
    },
    {
     "name": "stderr",
     "output_type": "stream",
     "text": [
      "\r",
      "115it [02:54,  1.52s/it]"
     ]
    },
    {
     "name": "stderr",
     "output_type": "stream",
     "text": [
      "\r",
      "116it [02:55,  1.48s/it]"
     ]
    },
    {
     "name": "stderr",
     "output_type": "stream",
     "text": [
      "\r",
      "117it [02:57,  1.47s/it]"
     ]
    },
    {
     "name": "stderr",
     "output_type": "stream",
     "text": [
      "\r",
      "118it [02:58,  1.46s/it]"
     ]
    },
    {
     "name": "stderr",
     "output_type": "stream",
     "text": [
      "\r",
      "119it [02:59,  1.46s/it]"
     ]
    },
    {
     "name": "stderr",
     "output_type": "stream",
     "text": [
      "\r",
      "120it [03:01,  1.42s/it]"
     ]
    },
    {
     "name": "stderr",
     "output_type": "stream",
     "text": [
      "\r",
      "                        "
     ]
    },
    {
     "name": "stderr",
     "output_type": "stream",
     "text": [
      "\r"
     ]
    },
    {
     "name": "stderr",
     "output_type": "stream",
     "text": [
      "\r",
      "120it [03:01,  1.42s/it]"
     ]
    },
    {
     "name": "stdout",
     "output_type": "stream",
     "text": [
      "iter: 120, loss: 2.35137, losses: 0.839214, 0.751528, 0.760629\n"
     ]
    },
    {
     "name": "stderr",
     "output_type": "stream",
     "text": [
      "\r",
      "121it [03:03,  1.60s/it]"
     ]
    },
    {
     "name": "stderr",
     "output_type": "stream",
     "text": [
      "\r",
      "122it [03:04,  1.51s/it]"
     ]
    },
    {
     "name": "stderr",
     "output_type": "stream",
     "text": [
      "\r",
      "123it [03:06,  1.52s/it]"
     ]
    },
    {
     "name": "stderr",
     "output_type": "stream",
     "text": [
      "\r",
      "124it [03:07,  1.45s/it]"
     ]
    },
    {
     "name": "stderr",
     "output_type": "stream",
     "text": [
      "\r",
      "125it [03:08,  1.41s/it]"
     ]
    },
    {
     "name": "stderr",
     "output_type": "stream",
     "text": [
      "\r",
      "126it [03:10,  1.38s/it]"
     ]
    },
    {
     "name": "stderr",
     "output_type": "stream",
     "text": [
      "\r",
      "127it [03:11,  1.38s/it]"
     ]
    },
    {
     "name": "stderr",
     "output_type": "stream",
     "text": [
      "\r",
      "128it [03:12,  1.39s/it]"
     ]
    },
    {
     "name": "stderr",
     "output_type": "stream",
     "text": [
      "\r",
      "129it [03:14,  1.44s/it]"
     ]
    },
    {
     "name": "stderr",
     "output_type": "stream",
     "text": [
      "\r",
      "130it [03:15,  1.40s/it]"
     ]
    },
    {
     "name": "stderr",
     "output_type": "stream",
     "text": [
      "\r",
      "                        "
     ]
    },
    {
     "name": "stderr",
     "output_type": "stream",
     "text": [
      "\r"
     ]
    },
    {
     "name": "stderr",
     "output_type": "stream",
     "text": [
      "\r",
      "130it [03:16,  1.40s/it]"
     ]
    },
    {
     "name": "stdout",
     "output_type": "stream",
     "text": [
      "iter: 130, loss: 2.30743, losses: 0.824956, 0.74173, 0.740745\n"
     ]
    },
    {
     "name": "stderr",
     "output_type": "stream",
     "text": [
      "\r",
      "131it [03:18,  1.75s/it]"
     ]
    },
    {
     "name": "stderr",
     "output_type": "stream",
     "text": [
      "\r",
      "132it [03:19,  1.61s/it]"
     ]
    },
    {
     "name": "stderr",
     "output_type": "stream",
     "text": [
      "\r",
      "133it [03:20,  1.51s/it]"
     ]
    },
    {
     "name": "stderr",
     "output_type": "stream",
     "text": [
      "\r",
      "134it [03:22,  1.53s/it]"
     ]
    },
    {
     "name": "stderr",
     "output_type": "stream",
     "text": [
      "\r",
      "135it [03:23,  1.46s/it]"
     ]
    },
    {
     "name": "stderr",
     "output_type": "stream",
     "text": [
      "\r",
      "136it [03:25,  1.41s/it]"
     ]
    },
    {
     "name": "stderr",
     "output_type": "stream",
     "text": [
      "\r",
      "137it [03:26,  1.40s/it]"
     ]
    },
    {
     "name": "stderr",
     "output_type": "stream",
     "text": [
      "\r",
      "138it [03:27,  1.37s/it]"
     ]
    },
    {
     "name": "stderr",
     "output_type": "stream",
     "text": [
      "\r",
      "139it [03:29,  1.35s/it]"
     ]
    },
    {
     "name": "stderr",
     "output_type": "stream",
     "text": [
      "\r",
      "140it [03:30,  1.38s/it]"
     ]
    },
    {
     "name": "stderr",
     "output_type": "stream",
     "text": [
      "\r",
      "                        "
     ]
    },
    {
     "name": "stderr",
     "output_type": "stream",
     "text": [
      "\r"
     ]
    },
    {
     "name": "stderr",
     "output_type": "stream",
     "text": [
      "\r",
      "140it [03:30,  1.38s/it]"
     ]
    },
    {
     "name": "stdout",
     "output_type": "stream",
     "text": [
      "iter: 140, loss: 2.33944, losses: 0.830298, 0.748792, 0.760354\n"
     ]
    },
    {
     "name": "stderr",
     "output_type": "stream",
     "text": [
      "\r",
      "141it [03:33,  1.81s/it]"
     ]
    },
    {
     "name": "stderr",
     "output_type": "stream",
     "text": [
      "\r",
      "142it [03:34,  1.69s/it]"
     ]
    },
    {
     "name": "stderr",
     "output_type": "stream",
     "text": [
      "\r",
      "143it [03:36,  1.61s/it]"
     ]
    },
    {
     "name": "stderr",
     "output_type": "stream",
     "text": [
      "\r",
      "144it [03:37,  1.52s/it]"
     ]
    },
    {
     "name": "stderr",
     "output_type": "stream",
     "text": [
      "\r",
      "145it [03:39,  1.53s/it]"
     ]
    },
    {
     "name": "stderr",
     "output_type": "stream",
     "text": [
      "\r",
      "146it [03:40,  1.47s/it]"
     ]
    },
    {
     "name": "stderr",
     "output_type": "stream",
     "text": [
      "\r",
      "147it [03:41,  1.41s/it]"
     ]
    },
    {
     "name": "stderr",
     "output_type": "stream",
     "text": [
      "\r",
      "148it [03:42,  1.39s/it]"
     ]
    },
    {
     "name": "stderr",
     "output_type": "stream",
     "text": [
      "\r",
      "149it [03:44,  1.35s/it]"
     ]
    },
    {
     "name": "stderr",
     "output_type": "stream",
     "text": [
      "\r",
      "150it [03:45,  1.34s/it]"
     ]
    },
    {
     "name": "stderr",
     "output_type": "stream",
     "text": [
      "\r",
      "                        "
     ]
    },
    {
     "name": "stderr",
     "output_type": "stream",
     "text": [
      "\r"
     ]
    },
    {
     "name": "stderr",
     "output_type": "stream",
     "text": [
      "\r",
      "150it [03:45,  1.34s/it]"
     ]
    },
    {
     "name": "stdout",
     "output_type": "stream",
     "text": [
      "iter: 150, loss: 2.3358, losses: 0.838269, 0.745811, 0.751719\n"
     ]
    },
    {
     "name": "stderr",
     "output_type": "stream",
     "text": [
      "\r",
      "151it [03:48,  1.82s/it]"
     ]
    },
    {
     "name": "stderr",
     "output_type": "stream",
     "text": [
      "\r",
      "152it [03:49,  1.66s/it]"
     ]
    },
    {
     "name": "stderr",
     "output_type": "stream",
     "text": [
      "\r",
      "153it [03:51,  1.59s/it]"
     ]
    },
    {
     "name": "stderr",
     "output_type": "stream",
     "text": [
      "\r",
      "154it [03:52,  1.50s/it]"
     ]
    },
    {
     "name": "stderr",
     "output_type": "stream",
     "text": [
      "\r",
      "155it [03:53,  1.46s/it]"
     ]
    },
    {
     "name": "stderr",
     "output_type": "stream",
     "text": [
      "\r",
      "156it [03:55,  1.45s/it]"
     ]
    },
    {
     "name": "stderr",
     "output_type": "stream",
     "text": [
      "\r",
      "157it [03:56,  1.41s/it]"
     ]
    },
    {
     "name": "stderr",
     "output_type": "stream",
     "text": [
      "\r",
      "158it [03:57,  1.38s/it]"
     ]
    },
    {
     "name": "stderr",
     "output_type": "stream",
     "text": [
      "\r",
      "159it [03:59,  1.37s/it]"
     ]
    },
    {
     "name": "stderr",
     "output_type": "stream",
     "text": [
      "\r",
      "160it [04:00,  1.36s/it]"
     ]
    },
    {
     "name": "stderr",
     "output_type": "stream",
     "text": [
      "\r",
      "                        "
     ]
    },
    {
     "name": "stderr",
     "output_type": "stream",
     "text": [
      "\r"
     ]
    },
    {
     "name": "stderr",
     "output_type": "stream",
     "text": [
      "\r",
      "160it [04:01,  1.36s/it]"
     ]
    },
    {
     "name": "stdout",
     "output_type": "stream",
     "text": [
      "iter: 160, loss: 2.29093, losses: 0.816221, 0.740601, 0.734111\n"
     ]
    },
    {
     "name": "stderr",
     "output_type": "stream",
     "text": [
      "\r",
      "161it [04:03,  1.80s/it]"
     ]
    },
    {
     "name": "stderr",
     "output_type": "stream",
     "text": [
      "\r",
      "162it [04:04,  1.71s/it]"
     ]
    },
    {
     "name": "stderr",
     "output_type": "stream",
     "text": [
      "\r",
      "163it [04:06,  1.59s/it]"
     ]
    },
    {
     "name": "stderr",
     "output_type": "stream",
     "text": [
      "\r",
      "164it [04:07,  1.50s/it]"
     ]
    },
    {
     "name": "stderr",
     "output_type": "stream",
     "text": [
      "\r",
      "165it [04:08,  1.48s/it]"
     ]
    },
    {
     "name": "stderr",
     "output_type": "stream",
     "text": [
      "\r",
      "166it [04:10,  1.42s/it]"
     ]
    },
    {
     "name": "stderr",
     "output_type": "stream",
     "text": [
      "\r",
      "167it [04:11,  1.45s/it]"
     ]
    },
    {
     "name": "stderr",
     "output_type": "stream",
     "text": [
      "\r",
      "168it [04:13,  1.42s/it]"
     ]
    },
    {
     "name": "stderr",
     "output_type": "stream",
     "text": [
      "\r",
      "169it [04:14,  1.37s/it]"
     ]
    },
    {
     "name": "stderr",
     "output_type": "stream",
     "text": [
      "\r",
      "170it [04:15,  1.40s/it]"
     ]
    },
    {
     "name": "stderr",
     "output_type": "stream",
     "text": [
      "\r",
      "                        "
     ]
    },
    {
     "name": "stderr",
     "output_type": "stream",
     "text": [
      "\r"
     ]
    },
    {
     "name": "stderr",
     "output_type": "stream",
     "text": [
      "\r",
      "170it [04:16,  1.40s/it]"
     ]
    },
    {
     "name": "stdout",
     "output_type": "stream",
     "text": [
      "iter: 170, loss: 2.33595, losses: 0.832326, 0.750492, 0.753135\n"
     ]
    },
    {
     "name": "stderr",
     "output_type": "stream",
     "text": [
      "\r",
      "171it [04:18,  1.76s/it]"
     ]
    },
    {
     "name": "stderr",
     "output_type": "stream",
     "text": [
      "\r",
      "172it [04:20,  1.74s/it]"
     ]
    },
    {
     "name": "stderr",
     "output_type": "stream",
     "text": [
      "\r",
      "173it [04:21,  1.63s/it]"
     ]
    },
    {
     "name": "stderr",
     "output_type": "stream",
     "text": [
      "\r",
      "174it [04:22,  1.58s/it]"
     ]
    },
    {
     "name": "stderr",
     "output_type": "stream",
     "text": [
      "\r",
      "175it [04:24,  1.49s/it]"
     ]
    },
    {
     "name": "stderr",
     "output_type": "stream",
     "text": [
      "\r",
      "176it [04:25,  1.44s/it]"
     ]
    },
    {
     "name": "stderr",
     "output_type": "stream",
     "text": [
      "\r",
      "177it [04:26,  1.42s/it]"
     ]
    },
    {
     "name": "stderr",
     "output_type": "stream",
     "text": [
      "\r",
      "178it [04:28,  1.39s/it]"
     ]
    },
    {
     "name": "stderr",
     "output_type": "stream",
     "text": [
      "\r",
      "179it [04:29,  1.41s/it]"
     ]
    },
    {
     "name": "stderr",
     "output_type": "stream",
     "text": [
      "\r",
      "180it [04:31,  1.38s/it]"
     ]
    },
    {
     "name": "stderr",
     "output_type": "stream",
     "text": [
      "\r",
      "                        "
     ]
    },
    {
     "name": "stderr",
     "output_type": "stream",
     "text": [
      "\r"
     ]
    },
    {
     "name": "stderr",
     "output_type": "stream",
     "text": [
      "\r",
      "180it [04:31,  1.38s/it]"
     ]
    },
    {
     "name": "stdout",
     "output_type": "stream",
     "text": [
      "iter: 180, loss: 2.31228, losses: 0.827905, 0.740097, 0.744274\n"
     ]
    },
    {
     "name": "stderr",
     "output_type": "stream",
     "text": [
      "\r",
      "181it [04:33,  1.66s/it]"
     ]
    },
    {
     "name": "stderr",
     "output_type": "stream",
     "text": [
      "\r",
      "182it [04:34,  1.57s/it]"
     ]
    },
    {
     "name": "stderr",
     "output_type": "stream",
     "text": [
      "\r",
      "183it [04:36,  1.55s/it]"
     ]
    },
    {
     "name": "stderr",
     "output_type": "stream",
     "text": [
      "\r",
      "184it [04:37,  1.48s/it]"
     ]
    },
    {
     "name": "stderr",
     "output_type": "stream",
     "text": [
      "\r",
      "185it [04:38,  1.44s/it]"
     ]
    },
    {
     "name": "stderr",
     "output_type": "stream",
     "text": [
      "\r",
      "186it [04:40,  1.39s/it]"
     ]
    },
    {
     "name": "stderr",
     "output_type": "stream",
     "text": [
      "\r",
      "187it [04:41,  1.40s/it]"
     ]
    },
    {
     "name": "stderr",
     "output_type": "stream",
     "text": [
      "\r",
      "188it [04:42,  1.38s/it]"
     ]
    },
    {
     "name": "stderr",
     "output_type": "stream",
     "text": [
      "\r",
      "189it [04:44,  1.43s/it]"
     ]
    },
    {
     "name": "stderr",
     "output_type": "stream",
     "text": [
      "\r",
      "190it [04:45,  1.40s/it]"
     ]
    },
    {
     "name": "stderr",
     "output_type": "stream",
     "text": [
      "\r",
      "                        "
     ]
    },
    {
     "name": "stderr",
     "output_type": "stream",
     "text": [
      "\r"
     ]
    },
    {
     "name": "stderr",
     "output_type": "stream",
     "text": [
      "\r",
      "190it [04:46,  1.40s/it]"
     ]
    },
    {
     "name": "stdout",
     "output_type": "stream",
     "text": [
      "iter: 190, loss: 2.3185, losses: 0.83385, 0.741401, 0.74325\n"
     ]
    },
    {
     "name": "stderr",
     "output_type": "stream",
     "text": [
      "\r",
      "191it [04:48,  1.74s/it]"
     ]
    },
    {
     "name": "stderr",
     "output_type": "stream",
     "text": [
      "\r",
      "192it [04:49,  1.61s/it]"
     ]
    },
    {
     "name": "stderr",
     "output_type": "stream",
     "text": [
      "\r",
      "193it [04:50,  1.51s/it]"
     ]
    },
    {
     "name": "stderr",
     "output_type": "stream",
     "text": [
      "\r",
      "194it [04:52,  1.54s/it]"
     ]
    },
    {
     "name": "stderr",
     "output_type": "stream",
     "text": [
      "\r",
      "195it [04:53,  1.47s/it]"
     ]
    },
    {
     "name": "stderr",
     "output_type": "stream",
     "text": [
      "\r",
      "196it [04:55,  1.42s/it]"
     ]
    },
    {
     "name": "stderr",
     "output_type": "stream",
     "text": [
      "\r",
      "197it [04:56,  1.40s/it]"
     ]
    },
    {
     "name": "stderr",
     "output_type": "stream",
     "text": [
      "\r",
      "198it [04:57,  1.38s/it]"
     ]
    },
    {
     "name": "stderr",
     "output_type": "stream",
     "text": [
      "\r",
      "199it [04:59,  1.36s/it]"
     ]
    },
    {
     "name": "stderr",
     "output_type": "stream",
     "text": [
      "\r",
      "200it [05:00,  1.43s/it]"
     ]
    },
    {
     "name": "stderr",
     "output_type": "stream",
     "text": [
      "\r",
      "                        "
     ]
    },
    {
     "name": "stderr",
     "output_type": "stream",
     "text": [
      "\r"
     ]
    },
    {
     "name": "stderr",
     "output_type": "stream",
     "text": [
      "\r",
      "200it [05:01,  1.43s/it]"
     ]
    },
    {
     "name": "stdout",
     "output_type": "stream",
     "text": [
      "iter: 200, loss: 2.26365, losses: 0.808789, 0.73395, 0.720907\n"
     ]
    },
    {
     "name": "stderr",
     "output_type": "stream",
     "text": [
      "\r",
      "201it [05:03,  1.81s/it]"
     ]
    },
    {
     "name": "stderr",
     "output_type": "stream",
     "text": [
      "\r",
      "202it [05:04,  1.68s/it]"
     ]
    },
    {
     "name": "stderr",
     "output_type": "stream",
     "text": [
      "\r",
      "203it [05:06,  1.59s/it]"
     ]
    },
    {
     "name": "stderr",
     "output_type": "stream",
     "text": [
      "\r",
      "204it [05:07,  1.50s/it]"
     ]
    },
    {
     "name": "stderr",
     "output_type": "stream",
     "text": [
      "\r",
      "205it [05:08,  1.48s/it]"
     ]
    },
    {
     "name": "stderr",
     "output_type": "stream",
     "text": [
      "\r",
      "206it [05:10,  1.46s/it]"
     ]
    },
    {
     "name": "stderr",
     "output_type": "stream",
     "text": [
      "\r",
      "207it [05:11,  1.47s/it]"
     ]
    },
    {
     "name": "stderr",
     "output_type": "stream",
     "text": [
      "\r",
      "208it [05:13,  1.41s/it]"
     ]
    },
    {
     "name": "stderr",
     "output_type": "stream",
     "text": [
      "\r",
      "209it [05:14,  1.41s/it]"
     ]
    },
    {
     "name": "stderr",
     "output_type": "stream",
     "text": [
      "\r",
      "210it [05:15,  1.40s/it]"
     ]
    },
    {
     "name": "stderr",
     "output_type": "stream",
     "text": [
      "\r",
      "                        "
     ]
    },
    {
     "name": "stderr",
     "output_type": "stream",
     "text": [
      "\r"
     ]
    },
    {
     "name": "stderr",
     "output_type": "stream",
     "text": [
      "\r",
      "210it [05:16,  1.40s/it]"
     ]
    },
    {
     "name": "stdout",
     "output_type": "stream",
     "text": [
      "iter: 210, loss: 2.25953, losses: 0.806244, 0.733932, 0.71935\n"
     ]
    },
    {
     "name": "stderr",
     "output_type": "stream",
     "text": [
      "\r",
      "211it [05:18,  1.77s/it]"
     ]
    },
    {
     "name": "stderr",
     "output_type": "stream",
     "text": [
      "\r",
      "212it [05:19,  1.64s/it]"
     ]
    },
    {
     "name": "stderr",
     "output_type": "stream",
     "text": [
      "\r",
      "213it [05:21,  1.56s/it]"
     ]
    },
    {
     "name": "stderr",
     "output_type": "stream",
     "text": [
      "\r",
      "214it [05:22,  1.49s/it]"
     ]
    },
    {
     "name": "stderr",
     "output_type": "stream",
     "text": [
      "\r",
      "215it [05:23,  1.44s/it]"
     ]
    },
    {
     "name": "stderr",
     "output_type": "stream",
     "text": [
      "\r",
      "216it [05:25,  1.44s/it]"
     ]
    },
    {
     "name": "stderr",
     "output_type": "stream",
     "text": [
      "\r",
      "217it [05:26,  1.41s/it]"
     ]
    },
    {
     "name": "stderr",
     "output_type": "stream",
     "text": [
      "\r",
      "218it [05:28,  1.41s/it]"
     ]
    },
    {
     "name": "stderr",
     "output_type": "stream",
     "text": [
      "\r",
      "219it [05:29,  1.41s/it]"
     ]
    },
    {
     "name": "stderr",
     "output_type": "stream",
     "text": [
      "\r",
      "220it [05:30,  1.39s/it]"
     ]
    },
    {
     "name": "stderr",
     "output_type": "stream",
     "text": [
      "\r",
      "                        "
     ]
    },
    {
     "name": "stderr",
     "output_type": "stream",
     "text": [
      "\r"
     ]
    },
    {
     "name": "stderr",
     "output_type": "stream",
     "text": [
      "\r",
      "220it [05:31,  1.39s/it]"
     ]
    },
    {
     "name": "stdout",
     "output_type": "stream",
     "text": [
      "iter: 220, loss: 2.30431, losses: 0.824517, 0.73917, 0.740624\n"
     ]
    },
    {
     "name": "stderr",
     "output_type": "stream",
     "text": [
      "\r",
      "221it [05:33,  1.73s/it]"
     ]
    },
    {
     "name": "stderr",
     "output_type": "stream",
     "text": [
      "\r",
      "222it [05:34,  1.64s/it]"
     ]
    },
    {
     "name": "stderr",
     "output_type": "stream",
     "text": [
      "\r",
      "223it [05:36,  1.58s/it]"
     ]
    },
    {
     "name": "stderr",
     "output_type": "stream",
     "text": [
      "\r",
      "224it [05:37,  1.50s/it]"
     ]
    },
    {
     "name": "stderr",
     "output_type": "stream",
     "text": [
      "\r",
      "225it [05:38,  1.44s/it]"
     ]
    },
    {
     "name": "stderr",
     "output_type": "stream",
     "text": [
      "\r",
      "226it [05:40,  1.41s/it]"
     ]
    },
    {
     "name": "stderr",
     "output_type": "stream",
     "text": [
      "\r",
      "227it [05:41,  1.43s/it]"
     ]
    },
    {
     "name": "stderr",
     "output_type": "stream",
     "text": [
      "\r",
      "228it [05:42,  1.40s/it]"
     ]
    },
    {
     "name": "stderr",
     "output_type": "stream",
     "text": [
      "\r",
      "229it [05:44,  1.38s/it]"
     ]
    },
    {
     "name": "stderr",
     "output_type": "stream",
     "text": [
      "\r",
      "230it [05:45,  1.38s/it]"
     ]
    },
    {
     "name": "stderr",
     "output_type": "stream",
     "text": [
      "\r",
      "                        "
     ]
    },
    {
     "name": "stderr",
     "output_type": "stream",
     "text": [
      "\r"
     ]
    },
    {
     "name": "stderr",
     "output_type": "stream",
     "text": [
      "\r",
      "230it [05:46,  1.38s/it]"
     ]
    },
    {
     "name": "stdout",
     "output_type": "stream",
     "text": [
      "iter: 230, loss: 2.25563, losses: 0.807165, 0.733101, 0.715362\n"
     ]
    },
    {
     "name": "stderr",
     "output_type": "stream",
     "text": [
      "\r",
      "231it [05:48,  1.79s/it]"
     ]
    },
    {
     "name": "stderr",
     "output_type": "stream",
     "text": [
      "\r",
      "232it [05:49,  1.64s/it]"
     ]
    },
    {
     "name": "stderr",
     "output_type": "stream",
     "text": [
      "\r",
      "233it [05:51,  1.59s/it]"
     ]
    },
    {
     "name": "stderr",
     "output_type": "stream",
     "text": [
      "\r",
      "234it [05:52,  1.58s/it]"
     ]
    },
    {
     "name": "stderr",
     "output_type": "stream",
     "text": [
      "\r",
      "235it [05:54,  1.50s/it]"
     ]
    },
    {
     "name": "stderr",
     "output_type": "stream",
     "text": [
      "\r",
      "236it [05:55,  1.44s/it]"
     ]
    },
    {
     "name": "stderr",
     "output_type": "stream",
     "text": [
      "\r",
      "237it [05:56,  1.40s/it]"
     ]
    },
    {
     "name": "stderr",
     "output_type": "stream",
     "text": [
      "\r",
      "238it [05:58,  1.46s/it]"
     ]
    },
    {
     "name": "stderr",
     "output_type": "stream",
     "text": [
      "\r",
      "239it [05:59,  1.42s/it]"
     ]
    },
    {
     "name": "stderr",
     "output_type": "stream",
     "text": [
      "\r",
      "240it [06:00,  1.38s/it]"
     ]
    },
    {
     "name": "stderr",
     "output_type": "stream",
     "text": [
      "\r",
      "                        "
     ]
    },
    {
     "name": "stderr",
     "output_type": "stream",
     "text": [
      "\r"
     ]
    },
    {
     "name": "stderr",
     "output_type": "stream",
     "text": [
      "\r",
      "240it [06:01,  1.38s/it]"
     ]
    },
    {
     "name": "stdout",
     "output_type": "stream",
     "text": [
      "iter: 240, loss: 2.23398, losses: 0.800131, 0.724726, 0.709123\n"
     ]
    },
    {
     "name": "stderr",
     "output_type": "stream",
     "text": [
      "\r",
      "241it [06:03,  1.72s/it]"
     ]
    },
    {
     "name": "stderr",
     "output_type": "stream",
     "text": [
      "\r",
      "242it [06:04,  1.59s/it]"
     ]
    },
    {
     "name": "stderr",
     "output_type": "stream",
     "text": [
      "\r",
      "243it [06:06,  1.55s/it]"
     ]
    },
    {
     "name": "stderr",
     "output_type": "stream",
     "text": [
      "\r",
      "244it [06:07,  1.48s/it]"
     ]
    },
    {
     "name": "stderr",
     "output_type": "stream",
     "text": [
      "\r",
      "245it [06:08,  1.44s/it]"
     ]
    },
    {
     "name": "stderr",
     "output_type": "stream",
     "text": [
      "\r",
      "246it [06:10,  1.41s/it]"
     ]
    },
    {
     "name": "stderr",
     "output_type": "stream",
     "text": [
      "\r",
      "247it [06:11,  1.39s/it]"
     ]
    },
    {
     "name": "stderr",
     "output_type": "stream",
     "text": [
      "\r",
      "248it [06:12,  1.37s/it]"
     ]
    },
    {
     "name": "stderr",
     "output_type": "stream",
     "text": [
      "\r",
      "249it [06:14,  1.34s/it]"
     ]
    },
    {
     "name": "stderr",
     "output_type": "stream",
     "text": [
      "\r",
      "250it [06:15,  1.41s/it]"
     ]
    },
    {
     "name": "stderr",
     "output_type": "stream",
     "text": [
      "\r",
      "                        "
     ]
    },
    {
     "name": "stderr",
     "output_type": "stream",
     "text": [
      "\r"
     ]
    },
    {
     "name": "stderr",
     "output_type": "stream",
     "text": [
      "\r",
      "250it [06:16,  1.41s/it]"
     ]
    },
    {
     "name": "stdout",
     "output_type": "stream",
     "text": [
      "iter: 250, loss: 2.23468, losses: 0.803198, 0.723994, 0.707489\n"
     ]
    },
    {
     "name": "stderr",
     "output_type": "stream",
     "text": [
      "\r",
      "251it [06:18,  1.81s/it]"
     ]
    },
    {
     "name": "stderr",
     "output_type": "stream",
     "text": [
      "\r",
      "252it [06:19,  1.68s/it]"
     ]
    },
    {
     "name": "stderr",
     "output_type": "stream",
     "text": [
      "\r",
      "253it [06:20,  1.56s/it]"
     ]
    },
    {
     "name": "stderr",
     "output_type": "stream",
     "text": [
      "\r",
      "254it [06:22,  1.54s/it]"
     ]
    },
    {
     "name": "stderr",
     "output_type": "stream",
     "text": [
      "\r",
      "255it [06:23,  1.46s/it]"
     ]
    },
    {
     "name": "stderr",
     "output_type": "stream",
     "text": [
      "\r",
      "256it [06:25,  1.41s/it]"
     ]
    },
    {
     "name": "stderr",
     "output_type": "stream",
     "text": [
      "\r",
      "257it [06:26,  1.38s/it]"
     ]
    },
    {
     "name": "stderr",
     "output_type": "stream",
     "text": [
      "\r",
      "258it [06:27,  1.38s/it]"
     ]
    },
    {
     "name": "stderr",
     "output_type": "stream",
     "text": [
      "\r",
      "259it [06:29,  1.35s/it]"
     ]
    },
    {
     "name": "stderr",
     "output_type": "stream",
     "text": [
      "\r",
      "260it [06:30,  1.40s/it]"
     ]
    },
    {
     "name": "stderr",
     "output_type": "stream",
     "text": [
      "\r",
      "                        "
     ]
    },
    {
     "name": "stderr",
     "output_type": "stream",
     "text": [
      "\r"
     ]
    },
    {
     "name": "stderr",
     "output_type": "stream",
     "text": [
      "\r",
      "260it [06:30,  1.40s/it]"
     ]
    },
    {
     "name": "stdout",
     "output_type": "stream",
     "text": [
      "iter: 260, loss: 2.23902, losses: 0.80657, 0.723076, 0.70937\n"
     ]
    },
    {
     "name": "stderr",
     "output_type": "stream",
     "text": [
      "\r",
      "261it [06:33,  1.80s/it]"
     ]
    },
    {
     "name": "stderr",
     "output_type": "stream",
     "text": [
      "\r",
      "262it [06:34,  1.65s/it]"
     ]
    },
    {
     "name": "stderr",
     "output_type": "stream",
     "text": [
      "\r",
      "263it [06:35,  1.55s/it]"
     ]
    },
    {
     "name": "stderr",
     "output_type": "stream",
     "text": [
      "\r",
      "264it [06:37,  1.53s/it]"
     ]
    },
    {
     "name": "stderr",
     "output_type": "stream",
     "text": [
      "\r",
      "265it [06:38,  1.51s/it]"
     ]
    },
    {
     "name": "stderr",
     "output_type": "stream",
     "text": [
      "\r",
      "266it [06:40,  1.45s/it]"
     ]
    },
    {
     "name": "stderr",
     "output_type": "stream",
     "text": [
      "\r",
      "267it [06:41,  1.41s/it]"
     ]
    },
    {
     "name": "stderr",
     "output_type": "stream",
     "text": [
      "\r",
      "268it [06:42,  1.38s/it]"
     ]
    },
    {
     "name": "stderr",
     "output_type": "stream",
     "text": [
      "\r",
      "269it [06:44,  1.38s/it]"
     ]
    },
    {
     "name": "stderr",
     "output_type": "stream",
     "text": [
      "\r",
      "270it [06:45,  1.36s/it]"
     ]
    },
    {
     "name": "stderr",
     "output_type": "stream",
     "text": [
      "\r",
      "                        "
     ]
    },
    {
     "name": "stderr",
     "output_type": "stream",
     "text": [
      "\r"
     ]
    },
    {
     "name": "stderr",
     "output_type": "stream",
     "text": [
      "\r",
      "270it [06:45,  1.36s/it]"
     ]
    },
    {
     "name": "stdout",
     "output_type": "stream",
     "text": [
      "iter: 270, loss: 2.2097, losses: 0.788969, 0.717631, 0.7031\n"
     ]
    },
    {
     "name": "stderr",
     "output_type": "stream",
     "text": [
      "\r",
      "271it [06:48,  1.86s/it]"
     ]
    },
    {
     "name": "stderr",
     "output_type": "stream",
     "text": [
      "\r",
      "272it [06:49,  1.69s/it]"
     ]
    },
    {
     "name": "stderr",
     "output_type": "stream",
     "text": [
      "\r",
      "273it [06:51,  1.61s/it]"
     ]
    },
    {
     "name": "stderr",
     "output_type": "stream",
     "text": [
      "\r",
      "274it [06:52,  1.51s/it]"
     ]
    },
    {
     "name": "stderr",
     "output_type": "stream",
     "text": [
      "\r",
      "275it [06:53,  1.45s/it]"
     ]
    },
    {
     "name": "stderr",
     "output_type": "stream",
     "text": [
      "\r",
      "276it [06:55,  1.46s/it]"
     ]
    },
    {
     "name": "stderr",
     "output_type": "stream",
     "text": [
      "\r",
      "277it [06:56,  1.42s/it]"
     ]
    },
    {
     "name": "stderr",
     "output_type": "stream",
     "text": [
      "\r",
      "278it [06:57,  1.39s/it]"
     ]
    },
    {
     "name": "stderr",
     "output_type": "stream",
     "text": [
      "\r",
      "279it [06:59,  1.35s/it]"
     ]
    },
    {
     "name": "stderr",
     "output_type": "stream",
     "text": [
      "\r",
      "280it [07:00,  1.36s/it]"
     ]
    },
    {
     "name": "stderr",
     "output_type": "stream",
     "text": [
      "\r",
      "                        "
     ]
    },
    {
     "name": "stderr",
     "output_type": "stream",
     "text": [
      "\r"
     ]
    },
    {
     "name": "stderr",
     "output_type": "stream",
     "text": [
      "\r",
      "280it [07:01,  1.36s/it]"
     ]
    },
    {
     "name": "stdout",
     "output_type": "stream",
     "text": [
      "iter: 280, loss: 2.28958, losses: 0.825509, 0.733645, 0.730425\n"
     ]
    },
    {
     "name": "stderr",
     "output_type": "stream",
     "text": [
      "\r",
      "281it [07:03,  1.79s/it]"
     ]
    },
    {
     "name": "stderr",
     "output_type": "stream",
     "text": [
      "\r",
      "282it [07:04,  1.69s/it]"
     ]
    },
    {
     "name": "stderr",
     "output_type": "stream",
     "text": [
      "\r",
      "283it [07:06,  1.64s/it]"
     ]
    },
    {
     "name": "stderr",
     "output_type": "stream",
     "text": [
      "\r",
      "284it [07:07,  1.56s/it]"
     ]
    },
    {
     "name": "stderr",
     "output_type": "stream",
     "text": [
      "\r",
      "285it [07:09,  1.50s/it]"
     ]
    },
    {
     "name": "stderr",
     "output_type": "stream",
     "text": [
      "\r",
      "286it [07:10,  1.44s/it]"
     ]
    },
    {
     "name": "stderr",
     "output_type": "stream",
     "text": [
      "\r",
      "287it [07:11,  1.46s/it]"
     ]
    },
    {
     "name": "stderr",
     "output_type": "stream",
     "text": [
      "\r",
      "288it [07:13,  1.41s/it]"
     ]
    },
    {
     "name": "stderr",
     "output_type": "stream",
     "text": [
      "\r",
      "289it [07:14,  1.36s/it]"
     ]
    },
    {
     "name": "stderr",
     "output_type": "stream",
     "text": [
      "\r",
      "290it [07:15,  1.34s/it]"
     ]
    },
    {
     "name": "stderr",
     "output_type": "stream",
     "text": [
      "\r",
      "                        "
     ]
    },
    {
     "name": "stderr",
     "output_type": "stream",
     "text": [
      "\r"
     ]
    },
    {
     "name": "stderr",
     "output_type": "stream",
     "text": [
      "\r",
      "290it [07:16,  1.34s/it]"
     ]
    },
    {
     "name": "stdout",
     "output_type": "stream",
     "text": [
      "iter: 290, loss: 2.21708, losses: 0.798177, 0.717835, 0.701071\n"
     ]
    },
    {
     "name": "stderr",
     "output_type": "stream",
     "text": [
      "\r",
      "291it [07:18,  1.71s/it]"
     ]
    },
    {
     "name": "stderr",
     "output_type": "stream",
     "text": [
      "\r",
      "292it [07:19,  1.59s/it]"
     ]
    },
    {
     "name": "stderr",
     "output_type": "stream",
     "text": [
      "\r",
      "293it [07:21,  1.55s/it]"
     ]
    },
    {
     "name": "stderr",
     "output_type": "stream",
     "text": [
      "\r",
      "294it [07:22,  1.51s/it]"
     ]
    },
    {
     "name": "stderr",
     "output_type": "stream",
     "text": [
      "\r",
      "295it [07:23,  1.45s/it]"
     ]
    },
    {
     "name": "stderr",
     "output_type": "stream",
     "text": [
      "\r",
      "296it [07:25,  1.41s/it]"
     ]
    },
    {
     "name": "stderr",
     "output_type": "stream",
     "text": [
      "\r",
      "297it [07:26,  1.40s/it]"
     ]
    },
    {
     "name": "stderr",
     "output_type": "stream",
     "text": [
      "\r",
      "298it [07:27,  1.43s/it]"
     ]
    },
    {
     "name": "stderr",
     "output_type": "stream",
     "text": [
      "\r",
      "299it [07:29,  1.44s/it]"
     ]
    },
    {
     "name": "stderr",
     "output_type": "stream",
     "text": [
      "\r",
      "300it [07:30,  1.45s/it]"
     ]
    },
    {
     "name": "stderr",
     "output_type": "stream",
     "text": [
      "\r",
      "                        "
     ]
    },
    {
     "name": "stderr",
     "output_type": "stream",
     "text": [
      "\r"
     ]
    },
    {
     "name": "stderr",
     "output_type": "stream",
     "text": [
      "\r",
      "300it [07:31,  1.45s/it]"
     ]
    },
    {
     "name": "stdout",
     "output_type": "stream",
     "text": [
      "iter: 300, loss: 2.2611, losses: 0.814271, 0.725522, 0.721311\n"
     ]
    },
    {
     "name": "stderr",
     "output_type": "stream",
     "text": [
      "\r",
      "300it [07:33,  1.51s/it]"
     ]
    },
    {
     "name": "stderr",
     "output_type": "stream",
     "text": [
      "\n"
     ]
    }
   ],
   "source": [
    "import sys\n",
    "sys.path.append(\"clipit\")\n",
    "\n",
    "prompts = \"Creating your first Paperspace Gradient Workflow #pixelart\" #@param {type:\"string\"}\n",
    "aspect = \"widescreen\" #@param [\"widescreen\", \"square\"]\n",
    "use_pixeldraw = True #@param {type:\"boolean\"}\n",
    "\n",
    "# Simple setup\n",
    "# from clipit import clipit\n",
    "import clipit\n",
    "\n",
    "# these are good settings for pixeldraw\n",
    "clipit.reset_settings()\n",
    "clipit.add_settings(prompts=prompts, aspect=aspect)\n",
    "clipit.add_settings(quality=\"better\", scale=2.5)\n",
    "clipit.add_settings(use_pixeldraw=use_pixeldraw)\n",
    "\n",
    "#### YOU CAN ADD YOUR OWN CUSTOM SETTING HERE ####\n",
    "# this is the example of how to run longer with less frequent display\n",
    "clipit.add_settings(iterations=300, display_every=50)\n",
    "\n",
    "settings = clipit.apply_settings()\n",
    "clipit.do_init(settings)\n",
    "clipit.do_run(settings)"
   ]
  },
  {
   "cell_type": "code",
   "execution_count": null,
   "id": "38998aab-e747-4808-b4ba-795a5bd865ed",
   "metadata": {
    "collapsed": false,
    "gradient": {
     "editing": false,
     "source_hidden": false
    }
   },
   "outputs": [
    {
     "data": {
      "image/png": "[encoded data removed]",
      "text/plain": [
       "<IPython.core.display.Image object>"
      ]
     },
     "execution_count": 14,
     "metadata": {},
     "output_type": "execute_result"
    }
   ],
   "source": [
    "from IPython.display import Image\n",
    "Image(filename='output.png') "
   ]
  },
  {
   "cell_type": "code",
   "execution_count": null,
   "id": "a06be75a-3274-4938-b34c-a0bc99aa56a5",
   "metadata": {
    "collapsed": false,
    "gradient": {
     "editing": false,
     "source_hidden": false
    }
   },
   "outputs": [
    {
     "name": "stderr",
     "output_type": "stream",
     "text": [
      "\r",
      "84it [02:04,  1.51s/it]"
     ]
    },
    {
     "name": "stderr",
     "output_type": "stream",
     "text": [
      "\r",
      "85it [02:06,  1.45s/it]"
     ]
    },
    {
     "name": "stderr",
     "output_type": "stream",
     "text": [
      "\r",
      "86it [02:07,  1.41s/it]"
     ]
    },
    {
     "name": "stderr",
     "output_type": "stream",
     "text": [
      "\r",
      "87it [02:08,  1.43s/it]"
     ]
    },
    {
     "name": "stderr",
     "output_type": "stream",
     "text": [
      "\r",
      "88it [02:10,  1.39s/it]"
     ]
    },
    {
     "name": "stderr",
     "output_type": "stream",
     "text": [
      "\r",
      "89it [02:11,  1.39s/it]"
     ]
    },
    {
     "name": "stderr",
     "output_type": "stream",
     "text": [
      "\r",
      "90it [02:13,  1.40s/it]"
     ]
    },
    {
     "name": "stderr",
     "output_type": "stream",
     "text": [
      "\r",
      "                       "
     ]
    },
    {
     "name": "stderr",
     "output_type": "stream",
     "text": [
      "\r"
     ]
    },
    {
     "name": "stderr",
     "output_type": "stream",
     "text": [
      "\r",
      "90it [02:13,  1.40s/it]"
     ]
    },
    {
     "name": "stdout",
     "output_type": "stream",
     "text": [
      "iter: 90, loss: 2.13578, losses: 0.797195, 0.655337, 0.683248\n"
     ]
    },
    {
     "name": "stderr",
     "output_type": "stream",
     "text": [
      "\r",
      "91it [02:15,  1.83s/it]"
     ]
    },
    {
     "name": "stderr",
     "output_type": "stream",
     "text": [
      "\r",
      "92it [02:17,  1.68s/it]"
     ]
    },
    {
     "name": "stderr",
     "output_type": "stream",
     "text": [
      "\r",
      "93it [02:18,  1.57s/it]"
     ]
    },
    {
     "name": "stderr",
     "output_type": "stream",
     "text": [
      "\r",
      "94it [02:19,  1.49s/it]"
     ]
    },
    {
     "name": "stderr",
     "output_type": "stream",
     "text": [
      "\r",
      "95it [02:21,  1.44s/it]"
     ]
    },
    {
     "name": "stderr",
     "output_type": "stream",
     "text": [
      "\r",
      "96it [02:22,  1.42s/it]"
     ]
    },
    {
     "name": "stderr",
     "output_type": "stream",
     "text": [
      "\r",
      "97it [02:24,  1.44s/it]"
     ]
    },
    {
     "name": "stderr",
     "output_type": "stream",
     "text": [
      "\r",
      "98it [02:25,  1.42s/it]"
     ]
    },
    {
     "name": "stderr",
     "output_type": "stream",
     "text": [
      "\r",
      "99it [02:26,  1.40s/it]"
     ]
    },
    {
     "name": "stderr",
     "output_type": "stream",
     "text": [
      "\r",
      "100it [02:28,  1.40s/it]"
     ]
    },
    {
     "name": "stderr",
     "output_type": "stream",
     "text": [
      "\r",
      "                        "
     ]
    },
    {
     "name": "stderr",
     "output_type": "stream",
     "text": [
      "\r"
     ]
    },
    {
     "name": "stderr",
     "output_type": "stream",
     "text": [
      "\r",
      "100it [02:28,  1.40s/it]"
     ]
    },
    {
     "name": "stdout",
     "output_type": "stream",
     "text": [
      "iter: 100, loss: 2.03976, losses: 0.765754, 0.625998, 0.648008\n"
     ]
    },
    {
     "name": "stderr",
     "output_type": "stream",
     "text": [
      "\r",
      "101it [02:30,  1.77s/it]"
     ]
    },
    {
     "name": "stderr",
     "output_type": "stream",
     "text": [
      "\r",
      "102it [02:32,  1.69s/it]"
     ]
    },
    {
     "name": "stderr",
     "output_type": "stream",
     "text": [
      "\r",
      "103it [02:33,  1.57s/it]"
     ]
    },
    {
     "name": "stderr",
     "output_type": "stream",
     "text": [
      "\r",
      "104it [02:34,  1.50s/it]"
     ]
    },
    {
     "name": "stderr",
     "output_type": "stream",
     "text": [
      "\r",
      "105it [02:36,  1.45s/it]"
     ]
    },
    {
     "name": "stderr",
     "output_type": "stream",
     "text": [
      "\r",
      "106it [02:37,  1.45s/it]"
     ]
    },
    {
     "name": "stderr",
     "output_type": "stream",
     "text": [
      "\r",
      "107it [02:39,  1.44s/it]"
     ]
    },
    {
     "name": "stderr",
     "output_type": "stream",
     "text": [
      "\r",
      "108it [02:40,  1.45s/it]"
     ]
    },
    {
     "name": "stderr",
     "output_type": "stream",
     "text": [
      "\r",
      "109it [02:41,  1.41s/it]"
     ]
    },
    {
     "name": "stderr",
     "output_type": "stream",
     "text": [
      "\r",
      "110it [02:43,  1.38s/it]"
     ]
    },
    {
     "name": "stderr",
     "output_type": "stream",
     "text": [
      "\r",
      "                        "
     ]
    },
    {
     "name": "stderr",
     "output_type": "stream",
     "text": [
      "\r"
     ]
    },
    {
     "name": "stderr",
     "output_type": "stream",
     "text": [
      "\r",
      "110it [02:43,  1.38s/it]"
     ]
    },
    {
     "name": "stdout",
     "output_type": "stream",
     "text": [
      "iter: 110, loss: 2.08954, losses: 0.781349, 0.643799, 0.664387\n"
     ]
    },
    {
     "name": "stderr",
     "output_type": "stream",
     "text": [
      "\r",
      "111it [02:45,  1.77s/it]"
     ]
    },
    {
     "name": "stderr",
     "output_type": "stream",
     "text": [
      "\r",
      "112it [02:47,  1.64s/it]"
     ]
    },
    {
     "name": "stderr",
     "output_type": "stream",
     "text": [
      "\r",
      "113it [02:48,  1.54s/it]"
     ]
    },
    {
     "name": "stderr",
     "output_type": "stream",
     "text": [
      "\r",
      "114it [02:50,  1.55s/it]"
     ]
    },
    {
     "name": "stderr",
     "output_type": "stream",
     "text": [
      "\r",
      "115it [02:51,  1.50s/it]"
     ]
    },
    {
     "name": "stderr",
     "output_type": "stream",
     "text": [
      "\r",
      "116it [02:52,  1.43s/it]"
     ]
    },
    {
     "name": "stderr",
     "output_type": "stream",
     "text": [
      "\r",
      "117it [02:54,  1.42s/it]"
     ]
    },
    {
     "name": "stderr",
     "output_type": "stream",
     "text": [
      "\r",
      "118it [02:55,  1.40s/it]"
     ]
    },
    {
     "name": "stderr",
     "output_type": "stream",
     "text": [
      "\r",
      "119it [02:56,  1.37s/it]"
     ]
    },
    {
     "name": "stderr",
     "output_type": "stream",
     "text": [
      "\r",
      "120it [02:58,  1.39s/it]"
     ]
    },
    {
     "name": "stderr",
     "output_type": "stream",
     "text": [
      "\r",
      "                        "
     ]
    },
    {
     "name": "stderr",
     "output_type": "stream",
     "text": [
      "\r"
     ]
    },
    {
     "name": "stderr",
     "output_type": "stream",
     "text": [
      "\r",
      "120it [02:58,  1.39s/it]"
     ]
    },
    {
     "name": "stdout",
     "output_type": "stream",
     "text": [
      "iter: 120, loss: 1.93691, losses: 0.721243, 0.603069, 0.612593\n"
     ]
    },
    {
     "name": "stderr",
     "output_type": "stream",
     "text": [
      "\r",
      "121it [03:00,  1.76s/it]"
     ]
    },
    {
     "name": "stderr",
     "output_type": "stream",
     "text": [
      "\r",
      "122it [03:02,  1.64s/it]"
     ]
    },
    {
     "name": "stderr",
     "output_type": "stream",
     "text": [
      "\r",
      "123it [03:03,  1.54s/it]"
     ]
    },
    {
     "name": "stderr",
     "output_type": "stream",
     "text": [
      "\r",
      "124it [03:04,  1.49s/it]"
     ]
    },
    {
     "name": "stderr",
     "output_type": "stream",
     "text": [
      "\r",
      "125it [03:06,  1.50s/it]"
     ]
    },
    {
     "name": "stderr",
     "output_type": "stream",
     "text": [
      "\r",
      "126it [03:07,  1.44s/it]"
     ]
    },
    {
     "name": "stderr",
     "output_type": "stream",
     "text": [
      "\r",
      "127it [03:09,  1.42s/it]"
     ]
    },
    {
     "name": "stderr",
     "output_type": "stream",
     "text": [
      "\r",
      "128it [03:10,  1.39s/it]"
     ]
    },
    {
     "name": "stderr",
     "output_type": "stream",
     "text": [
      "\r",
      "129it [03:11,  1.42s/it]"
     ]
    },
    {
     "name": "stderr",
     "output_type": "stream",
     "text": [
      "\r",
      "130it [03:13,  1.45s/it]"
     ]
    },
    {
     "name": "stderr",
     "output_type": "stream",
     "text": [
      "\r",
      "                        "
     ]
    },
    {
     "name": "stderr",
     "output_type": "stream",
     "text": [
      "\r"
     ]
    },
    {
     "name": "stderr",
     "output_type": "stream",
     "text": [
      "\r",
      "130it [03:13,  1.45s/it]"
     ]
    },
    {
     "name": "stdout",
     "output_type": "stream",
     "text": [
      "iter: 130, loss: 2.00831, losses: 0.745097, 0.623302, 0.639914\n"
     ]
    },
    {
     "name": "stderr",
     "output_type": "stream",
     "text": [
      "\r",
      "131it [03:15,  1.72s/it]"
     ]
    },
    {
     "name": "stderr",
     "output_type": "stream",
     "text": [
      "\r",
      "132it [03:17,  1.61s/it]"
     ]
    },
    {
     "name": "stderr",
     "output_type": "stream",
     "text": [
      "\r",
      "133it [03:18,  1.52s/it]"
     ]
    },
    {
     "name": "stderr",
     "output_type": "stream",
     "text": [
      "\r",
      "134it [03:19,  1.45s/it]"
     ]
    },
    {
     "name": "stderr",
     "output_type": "stream",
     "text": [
      "\r",
      "135it [03:21,  1.42s/it]"
     ]
    },
    {
     "name": "stderr",
     "output_type": "stream",
     "text": [
      "\r",
      "136it [03:22,  1.39s/it]"
     ]
    },
    {
     "name": "stderr",
     "output_type": "stream",
     "text": [
      "\r",
      "137it [03:23,  1.41s/it]"
     ]
    },
    {
     "name": "stderr",
     "output_type": "stream",
     "text": [
      "\r",
      "138it [03:25,  1.40s/it]"
     ]
    },
    {
     "name": "stderr",
     "output_type": "stream",
     "text": [
      "\r",
      "139it [03:26,  1.38s/it]"
     ]
    },
    {
     "name": "stderr",
     "output_type": "stream",
     "text": [
      "\r",
      "140it [03:28,  1.41s/it]"
     ]
    },
    {
     "name": "stderr",
     "output_type": "stream",
     "text": [
      "\r",
      "                        "
     ]
    },
    {
     "name": "stderr",
     "output_type": "stream",
     "text": [
      "\r"
     ]
    },
    {
     "name": "stderr",
     "output_type": "stream",
     "text": [
      "\r",
      "140it [03:28,  1.41s/it]"
     ]
    },
    {
     "name": "stdout",
     "output_type": "stream",
     "text": [
      "iter: 140, loss: 1.90618, losses: 0.703075, 0.601108, 0.601994\n"
     ]
    },
    {
     "name": "stderr",
     "output_type": "stream",
     "text": [
      "\r",
      "141it [03:31,  1.88s/it]"
     ]
    },
    {
     "name": "stderr",
     "output_type": "stream",
     "text": [
      "\r",
      "142it [03:32,  1.72s/it]"
     ]
    },
    {
     "name": "stderr",
     "output_type": "stream",
     "text": [
      "\r",
      "143it [03:33,  1.62s/it]"
     ]
    },
    {
     "name": "stderr",
     "output_type": "stream",
     "text": [
      "\r",
      "144it [03:35,  1.56s/it]"
     ]
    },
    {
     "name": "stderr",
     "output_type": "stream",
     "text": [
      "\r",
      "145it [03:36,  1.53s/it]"
     ]
    },
    {
     "name": "stderr",
     "output_type": "stream",
     "text": [
      "\r",
      "146it [03:37,  1.47s/it]"
     ]
    },
    {
     "name": "stderr",
     "output_type": "stream",
     "text": [
      "\r",
      "147it [03:39,  1.46s/it]"
     ]
    },
    {
     "name": "stderr",
     "output_type": "stream",
     "text": [
      "\r",
      "148it [03:40,  1.48s/it]"
     ]
    },
    {
     "name": "stderr",
     "output_type": "stream",
     "text": [
      "\r",
      "149it [03:42,  1.46s/it]"
     ]
    },
    {
     "name": "stderr",
     "output_type": "stream",
     "text": [
      "\r",
      "150it [03:43,  1.42s/it]"
     ]
    },
    {
     "name": "stderr",
     "output_type": "stream",
     "text": [
      "\r",
      "                        "
     ]
    },
    {
     "name": "stderr",
     "output_type": "stream",
     "text": [
      "\r"
     ]
    },
    {
     "name": "stderr",
     "output_type": "stream",
     "text": [
      "\r",
      "150it [03:44,  1.42s/it]"
     ]
    },
    {
     "name": "stdout",
     "output_type": "stream",
     "text": [
      "iter: 150, loss: 2.00446, losses: 0.750718, 0.620955, 0.632792\n"
     ]
    },
    {
     "name": "stderr",
     "output_type": "stream",
     "text": [
      "\r",
      "151it [03:45,  1.65s/it]"
     ]
    },
    {
     "name": "stderr",
     "output_type": "stream",
     "text": [
      "\r",
      "152it [03:47,  1.62s/it]"
     ]
    },
    {
     "name": "stderr",
     "output_type": "stream",
     "text": [
      "\r",
      "153it [03:48,  1.56s/it]"
     ]
    },
    {
     "name": "stderr",
     "output_type": "stream",
     "text": [
      "\r",
      "154it [03:50,  1.50s/it]"
     ]
    },
    {
     "name": "stderr",
     "output_type": "stream",
     "text": [
      "\r",
      "155it [03:51,  1.46s/it]"
     ]
    },
    {
     "name": "stderr",
     "output_type": "stream",
     "text": [
      "\r",
      "156it [03:53,  1.46s/it]"
     ]
    },
    {
     "name": "stderr",
     "output_type": "stream",
     "text": [
      "\r",
      "157it [03:54,  1.46s/it]"
     ]
    },
    {
     "name": "stderr",
     "output_type": "stream",
     "text": [
      "\r",
      "158it [03:56,  1.50s/it]"
     ]
    },
    {
     "name": "stderr",
     "output_type": "stream",
     "text": [
      "\r",
      "159it [03:57,  1.52s/it]"
     ]
    },
    {
     "name": "stderr",
     "output_type": "stream",
     "text": [
      "\r",
      "160it [03:59,  1.47s/it]"
     ]
    },
    {
     "name": "stderr",
     "output_type": "stream",
     "text": [
      "\r",
      "                        "
     ]
    },
    {
     "name": "stderr",
     "output_type": "stream",
     "text": [
      "\r"
     ]
    },
    {
     "name": "stderr",
     "output_type": "stream",
     "text": [
      "\r",
      "160it [03:59,  1.47s/it]"
     ]
    },
    {
     "name": "stdout",
     "output_type": "stream",
     "text": [
      "iter: 160, loss: 2.05409, losses: 0.770502, 0.634723, 0.648868\n"
     ]
    },
    {
     "name": "stderr",
     "output_type": "stream",
     "text": [
      "\r",
      "161it [04:00,  1.59s/it]"
     ]
    },
    {
     "name": "stderr",
     "output_type": "stream",
     "text": [
      "\r",
      "162it [04:02,  1.53s/it]"
     ]
    },
    {
     "name": "stderr",
     "output_type": "stream",
     "text": [
      "\r",
      "163it [04:03,  1.54s/it]"
     ]
    },
    {
     "name": "stderr",
     "output_type": "stream",
     "text": [
      "\r",
      "164it [04:05,  1.50s/it]"
     ]
    },
    {
     "name": "stderr",
     "output_type": "stream",
     "text": [
      "\r",
      "165it [04:06,  1.46s/it]"
     ]
    },
    {
     "name": "stderr",
     "output_type": "stream",
     "text": [
      "\r",
      "166it [04:08,  1.44s/it]"
     ]
    },
    {
     "name": "stderr",
     "output_type": "stream",
     "text": [
      "\r",
      "167it [04:09,  1.41s/it]"
     ]
    },
    {
     "name": "stderr",
     "output_type": "stream",
     "text": [
      "\r",
      "168it [04:10,  1.39s/it]"
     ]
    },
    {
     "name": "stderr",
     "output_type": "stream",
     "text": [
      "\r",
      "169it [04:12,  1.44s/it]"
     ]
    },
    {
     "name": "stderr",
     "output_type": "stream",
     "text": [
      "\r",
      "170it [04:13,  1.42s/it]"
     ]
    },
    {
     "name": "stderr",
     "output_type": "stream",
     "text": [
      "\r",
      "                        "
     ]
    },
    {
     "name": "stderr",
     "output_type": "stream",
     "text": [
      "\r"
     ]
    },
    {
     "name": "stderr",
     "output_type": "stream",
     "text": [
      "\r",
      "170it [04:14,  1.42s/it]"
     ]
    },
    {
     "name": "stdout",
     "output_type": "stream",
     "text": [
      "iter: 170, loss: 2.00645, losses: 0.756147, 0.621527, 0.628772\n"
     ]
    },
    {
     "name": "stderr",
     "output_type": "stream",
     "text": [
      "\r",
      "171it [04:15,  1.67s/it]"
     ]
    },
    {
     "name": "stderr",
     "output_type": "stream",
     "text": [
      "\r",
      "172it [04:17,  1.60s/it]"
     ]
    },
    {
     "name": "stderr",
     "output_type": "stream",
     "text": [
      "\r",
      "173it [04:18,  1.52s/it]"
     ]
    },
    {
     "name": "stderr",
     "output_type": "stream",
     "text": [
      "\r",
      "174it [04:20,  1.50s/it]"
     ]
    },
    {
     "name": "stderr",
     "output_type": "stream",
     "text": [
      "\r",
      "175it [04:21,  1.53s/it]"
     ]
    },
    {
     "name": "stderr",
     "output_type": "stream",
     "text": [
      "\r",
      "176it [04:23,  1.48s/it]"
     ]
    },
    {
     "name": "stderr",
     "output_type": "stream",
     "text": [
      "\r",
      "177it [04:24,  1.45s/it]"
     ]
    },
    {
     "name": "stderr",
     "output_type": "stream",
     "text": [
      "\r",
      "178it [04:25,  1.43s/it]"
     ]
    },
    {
     "name": "stderr",
     "output_type": "stream",
     "text": [
      "\r",
      "179it [04:27,  1.43s/it]"
     ]
    },
    {
     "name": "stderr",
     "output_type": "stream",
     "text": [
      "\r",
      "180it [04:28,  1.41s/it]"
     ]
    },
    {
     "name": "stderr",
     "output_type": "stream",
     "text": [
      "\r",
      "                        "
     ]
    },
    {
     "name": "stderr",
     "output_type": "stream",
     "text": [
      "\r"
     ]
    },
    {
     "name": "stderr",
     "output_type": "stream",
     "text": [
      "\r",
      "180it [04:29,  1.41s/it]"
     ]
    },
    {
     "name": "stdout",
     "output_type": "stream",
     "text": [
      "iter: 180, loss: 2.03878, losses: 0.768998, 0.627541, 0.642243\n"
     ]
    },
    {
     "name": "stderr",
     "output_type": "stream",
     "text": [
      "\r",
      "181it [04:30,  1.67s/it]"
     ]
    },
    {
     "name": "stderr",
     "output_type": "stream",
     "text": [
      "\r",
      "182it [04:32,  1.57s/it]"
     ]
    },
    {
     "name": "stderr",
     "output_type": "stream",
     "text": [
      "\r",
      "183it [04:33,  1.52s/it]"
     ]
    },
    {
     "name": "stderr",
     "output_type": "stream",
     "text": [
      "\r",
      "184it [04:34,  1.47s/it]"
     ]
    },
    {
     "name": "stderr",
     "output_type": "stream",
     "text": [
      "\r",
      "185it [04:36,  1.44s/it]"
     ]
    },
    {
     "name": "stderr",
     "output_type": "stream",
     "text": [
      "\r",
      "186it [04:37,  1.45s/it]"
     ]
    },
    {
     "name": "stderr",
     "output_type": "stream",
     "text": [
      "\r",
      "187it [04:39,  1.42s/it]"
     ]
    },
    {
     "name": "stderr",
     "output_type": "stream",
     "text": [
      "\r",
      "188it [04:40,  1.38s/it]"
     ]
    },
    {
     "name": "stderr",
     "output_type": "stream",
     "text": [
      "\r",
      "189it [04:41,  1.39s/it]"
     ]
    },
    {
     "name": "stderr",
     "output_type": "stream",
     "text": [
      "\r",
      "190it [04:43,  1.36s/it]"
     ]
    },
    {
     "name": "stderr",
     "output_type": "stream",
     "text": [
      "\r",
      "                        "
     ]
    },
    {
     "name": "stderr",
     "output_type": "stream",
     "text": [
      "\r"
     ]
    },
    {
     "name": "stderr",
     "output_type": "stream",
     "text": [
      "\r",
      "190it [04:43,  1.36s/it]"
     ]
    },
    {
     "name": "stdout",
     "output_type": "stream",
     "text": [
      "iter: 190, loss: 1.86423, losses: 0.697881, 0.58459, 0.581763\n"
     ]
    },
    {
     "name": "stderr",
     "output_type": "stream",
     "text": [
      "\r",
      "191it [04:45,  1.79s/it]"
     ]
    },
    {
     "name": "stderr",
     "output_type": "stream",
     "text": [
      "\r",
      "192it [04:47,  1.67s/it]"
     ]
    },
    {
     "name": "stderr",
     "output_type": "stream",
     "text": [
      "\r",
      "193it [04:48,  1.55s/it]"
     ]
    },
    {
     "name": "stderr",
     "output_type": "stream",
     "text": [
      "\r",
      "194it [04:49,  1.48s/it]"
     ]
    },
    {
     "name": "stderr",
     "output_type": "stream",
     "text": [
      "\r",
      "195it [04:51,  1.47s/it]"
     ]
    },
    {
     "name": "stderr",
     "output_type": "stream",
     "text": [
      "\r",
      "196it [04:52,  1.47s/it]"
     ]
    },
    {
     "name": "stderr",
     "output_type": "stream",
     "text": [
      "\r",
      "197it [04:54,  1.44s/it]"
     ]
    },
    {
     "name": "stderr",
     "output_type": "stream",
     "text": [
      "\r",
      "198it [04:55,  1.46s/it]"
     ]
    },
    {
     "name": "stderr",
     "output_type": "stream",
     "text": [
      "\r",
      "199it [04:57,  1.43s/it]"
     ]
    },
    {
     "name": "stderr",
     "output_type": "stream",
     "text": [
      "\r",
      "200it [04:58,  1.39s/it]"
     ]
    },
    {
     "name": "stderr",
     "output_type": "stream",
     "text": [
      "\r",
      "                        "
     ]
    },
    {
     "name": "stderr",
     "output_type": "stream",
     "text": [
      "\r"
     ]
    },
    {
     "name": "stderr",
     "output_type": "stream",
     "text": [
      "\r",
      "200it [04:58,  1.39s/it]"
     ]
    },
    {
     "name": "stdout",
     "output_type": "stream",
     "text": [
      "iter: 200, loss: 1.86969, losses: 0.705383, 0.583784, 0.580524\n"
     ]
    },
    {
     "name": "stderr",
     "output_type": "stream",
     "text": [
      "\r",
      "201it [05:00,  1.70s/it]"
     ]
    },
    {
     "name": "stderr",
     "output_type": "stream",
     "text": [
      "\r",
      "202it [05:02,  1.66s/it]"
     ]
    },
    {
     "name": "stderr",
     "output_type": "stream",
     "text": [
      "\r",
      "203it [05:03,  1.54s/it]"
     ]
    },
    {
     "name": "stderr",
     "output_type": "stream",
     "text": [
      "\r",
      "204it [05:04,  1.47s/it]"
     ]
    },
    {
     "name": "stderr",
     "output_type": "stream",
     "text": [
      "\r",
      "205it [05:06,  1.41s/it]"
     ]
    },
    {
     "name": "stderr",
     "output_type": "stream",
     "text": [
      "\r",
      "206it [05:07,  1.39s/it]"
     ]
    },
    {
     "name": "stderr",
     "output_type": "stream",
     "text": [
      "\r",
      "207it [05:08,  1.37s/it]"
     ]
    },
    {
     "name": "stderr",
     "output_type": "stream",
     "text": [
      "\r",
      "208it [05:10,  1.36s/it]"
     ]
    },
    {
     "name": "stderr",
     "output_type": "stream",
     "text": [
      "\r",
      "209it [05:11,  1.43s/it]"
     ]
    },
    {
     "name": "stderr",
     "output_type": "stream",
     "text": [
      "\r",
      "210it [05:13,  1.42s/it]"
     ]
    },
    {
     "name": "stderr",
     "output_type": "stream",
     "text": [
      "\r",
      "                        "
     ]
    },
    {
     "name": "stderr",
     "output_type": "stream",
     "text": [
      "\r"
     ]
    },
    {
     "name": "stderr",
     "output_type": "stream",
     "text": [
      "\r",
      "210it [05:13,  1.42s/it]"
     ]
    },
    {
     "name": "stdout",
     "output_type": "stream",
     "text": [
      "iter: 210, loss: 2.01054, losses: 0.749465, 0.625698, 0.635379\n"
     ]
    },
    {
     "name": "stderr",
     "output_type": "stream",
     "text": [
      "\r",
      "211it [05:15,  1.77s/it]"
     ]
    },
    {
     "name": "stderr",
     "output_type": "stream",
     "text": [
      "\r",
      "212it [05:17,  1.63s/it]"
     ]
    },
    {
     "name": "stderr",
     "output_type": "stream",
     "text": [
      "\r",
      "213it [05:18,  1.58s/it]"
     ]
    },
    {
     "name": "stderr",
     "output_type": "stream",
     "text": [
      "\r",
      "214it [05:19,  1.52s/it]"
     ]
    },
    {
     "name": "stderr",
     "output_type": "stream",
     "text": [
      "\r",
      "215it [05:21,  1.47s/it]"
     ]
    },
    {
     "name": "stderr",
     "output_type": "stream",
     "text": [
      "\r",
      "216it [05:22,  1.43s/it]"
     ]
    },
    {
     "name": "stderr",
     "output_type": "stream",
     "text": [
      "\r",
      "217it [05:23,  1.39s/it]"
     ]
    },
    {
     "name": "stderr",
     "output_type": "stream",
     "text": [
      "\r",
      "218it [05:25,  1.37s/it]"
     ]
    },
    {
     "name": "stderr",
     "output_type": "stream",
     "text": [
      "\r",
      "219it [05:26,  1.40s/it]"
     ]
    },
    {
     "name": "stderr",
     "output_type": "stream",
     "text": [
      "\r",
      "220it [05:28,  1.37s/it]"
     ]
    },
    {
     "name": "stderr",
     "output_type": "stream",
     "text": [
      "\r",
      "                        "
     ]
    },
    {
     "name": "stderr",
     "output_type": "stream",
     "text": [
      "\r"
     ]
    },
    {
     "name": "stderr",
     "output_type": "stream",
     "text": [
      "\r",
      "220it [05:28,  1.37s/it]"
     ]
    },
    {
     "name": "stdout",
     "output_type": "stream",
     "text": [
      "iter: 220, loss: 1.86246, losses: 0.69544, 0.584546, 0.582476\n"
     ]
    },
    {
     "name": "stderr",
     "output_type": "stream",
     "text": [
      "\r",
      "221it [05:30,  1.81s/it]"
     ]
    },
    {
     "name": "stderr",
     "output_type": "stream",
     "text": [
      "\r",
      "222it [05:32,  1.67s/it]"
     ]
    },
    {
     "name": "stderr",
     "output_type": "stream",
     "text": [
      "\r",
      "223it [05:33,  1.56s/it]"
     ]
    },
    {
     "name": "stderr",
     "output_type": "stream",
     "text": [
      "\r",
      "224it [05:35,  1.57s/it]"
     ]
    },
    {
     "name": "stderr",
     "output_type": "stream",
     "text": [
      "\r",
      "225it [05:36,  1.49s/it]"
     ]
    },
    {
     "name": "stderr",
     "output_type": "stream",
     "text": [
      "\r",
      "226it [05:37,  1.46s/it]"
     ]
    },
    {
     "name": "stderr",
     "output_type": "stream",
     "text": [
      "\r",
      "227it [05:39,  1.43s/it]"
     ]
    },
    {
     "name": "stderr",
     "output_type": "stream",
     "text": [
      "\r",
      "228it [05:40,  1.39s/it]"
     ]
    },
    {
     "name": "stderr",
     "output_type": "stream",
     "text": [
      "\r",
      "229it [05:41,  1.37s/it]"
     ]
    },
    {
     "name": "stderr",
     "output_type": "stream",
     "text": [
      "\r",
      "230it [05:43,  1.41s/it]"
     ]
    },
    {
     "name": "stderr",
     "output_type": "stream",
     "text": [
      "\r",
      "                        "
     ]
    },
    {
     "name": "stderr",
     "output_type": "stream",
     "text": [
      "\r"
     ]
    },
    {
     "name": "stderr",
     "output_type": "stream",
     "text": [
      "\r",
      "230it [05:43,  1.41s/it]"
     ]
    },
    {
     "name": "stdout",
     "output_type": "stream",
     "text": [
      "iter: 230, loss: 2.03598, losses: 0.762428, 0.629144, 0.644404\n"
     ]
    },
    {
     "name": "stderr",
     "output_type": "stream",
     "text": [
      "\r",
      "231it [05:45,  1.75s/it]"
     ]
    },
    {
     "name": "stderr",
     "output_type": "stream",
     "text": [
      "\r",
      "232it [05:47,  1.64s/it]"
     ]
    },
    {
     "name": "stderr",
     "output_type": "stream",
     "text": [
      "\r",
      "233it [05:48,  1.56s/it]"
     ]
    },
    {
     "name": "stderr",
     "output_type": "stream",
     "text": [
      "\r",
      "234it [05:49,  1.48s/it]"
     ]
    },
    {
     "name": "stderr",
     "output_type": "stream",
     "text": [
      "\r",
      "235it [05:51,  1.44s/it]"
     ]
    },
    {
     "name": "stderr",
     "output_type": "stream",
     "text": [
      "\r",
      "236it [05:52,  1.45s/it]"
     ]
    },
    {
     "name": "stderr",
     "output_type": "stream",
     "text": [
      "\r",
      "237it [05:54,  1.42s/it]"
     ]
    },
    {
     "name": "stderr",
     "output_type": "stream",
     "text": [
      "\r",
      "238it [05:55,  1.40s/it]"
     ]
    },
    {
     "name": "stderr",
     "output_type": "stream",
     "text": [
      "\r",
      "239it [05:56,  1.39s/it]"
     ]
    },
    {
     "name": "stderr",
     "output_type": "stream",
     "text": [
      "\r",
      "240it [05:58,  1.36s/it]"
     ]
    },
    {
     "name": "stderr",
     "output_type": "stream",
     "text": [
      "\r",
      "                        "
     ]
    },
    {
     "name": "stderr",
     "output_type": "stream",
     "text": [
      "\r"
     ]
    },
    {
     "name": "stderr",
     "output_type": "stream",
     "text": [
      "\r",
      "240it [05:58,  1.36s/it]"
     ]
    },
    {
     "name": "stdout",
     "output_type": "stream",
     "text": [
      "iter: 240, loss: 1.84097, losses: 0.680661, 0.582974, 0.577332\n"
     ]
    },
    {
     "name": "stderr",
     "output_type": "stream",
     "text": [
      "\r",
      "241it [06:00,  1.78s/it]"
     ]
    },
    {
     "name": "stderr",
     "output_type": "stream",
     "text": [
      "\r",
      "242it [06:02,  1.71s/it]"
     ]
    },
    {
     "name": "stderr",
     "output_type": "stream",
     "text": [
      "\r",
      "243it [06:03,  1.61s/it]"
     ]
    },
    {
     "name": "stderr",
     "output_type": "stream",
     "text": [
      "\r",
      "244it [06:05,  1.53s/it]"
     ]
    },
    {
     "name": "stderr",
     "output_type": "stream",
     "text": [
      "\r",
      "245it [06:06,  1.48s/it]"
     ]
    },
    {
     "name": "stderr",
     "output_type": "stream",
     "text": [
      "\r",
      "246it [06:07,  1.43s/it]"
     ]
    },
    {
     "name": "stderr",
     "output_type": "stream",
     "text": [
      "\r",
      "247it [06:09,  1.46s/it]"
     ]
    },
    {
     "name": "stderr",
     "output_type": "stream",
     "text": [
      "\r",
      "248it [06:10,  1.41s/it]"
     ]
    },
    {
     "name": "stderr",
     "output_type": "stream",
     "text": [
      "\r",
      "249it [06:11,  1.41s/it]"
     ]
    },
    {
     "name": "stderr",
     "output_type": "stream",
     "text": [
      "\r",
      "250it [06:13,  1.37s/it]"
     ]
    },
    {
     "name": "stderr",
     "output_type": "stream",
     "text": [
      "\r",
      "                        "
     ]
    },
    {
     "name": "stderr",
     "output_type": "stream",
     "text": [
      "\r"
     ]
    },
    {
     "name": "stderr",
     "output_type": "stream",
     "text": [
      "\r",
      "250it [06:13,  1.37s/it]"
     ]
    },
    {
     "name": "stdout",
     "output_type": "stream",
     "text": [
      "iter: 250, loss: 1.97172, losses: 0.741894, 0.616533, 0.613294\n"
     ]
    },
    {
     "name": "stderr",
     "output_type": "stream",
     "text": [
      "\r",
      "251it [06:15,  1.72s/it]"
     ]
    },
    {
     "name": "stderr",
     "output_type": "stream",
     "text": [
      "\r",
      "252it [06:17,  1.65s/it]"
     ]
    },
    {
     "name": "stderr",
     "output_type": "stream",
     "text": [
      "\r",
      "253it [06:18,  1.58s/it]"
     ]
    },
    {
     "name": "stderr",
     "output_type": "stream",
     "text": [
      "\r",
      "254it [06:20,  1.50s/it]"
     ]
    },
    {
     "name": "stderr",
     "output_type": "stream",
     "text": [
      "\r",
      "255it [06:21,  1.45s/it]"
     ]
    },
    {
     "name": "stderr",
     "output_type": "stream",
     "text": [
      "\r",
      "256it [06:22,  1.44s/it]"
     ]
    },
    {
     "name": "stderr",
     "output_type": "stream",
     "text": [
      "\r",
      "257it [06:24,  1.44s/it]"
     ]
    },
    {
     "name": "stderr",
     "output_type": "stream",
     "text": [
      "\r",
      "258it [06:25,  1.41s/it]"
     ]
    },
    {
     "name": "stderr",
     "output_type": "stream",
     "text": [
      "\r",
      "259it [06:27,  1.46s/it]"
     ]
    },
    {
     "name": "stderr",
     "output_type": "stream",
     "text": [
      "\r",
      "260it [06:28,  1.42s/it]"
     ]
    },
    {
     "name": "stderr",
     "output_type": "stream",
     "text": [
      "\r",
      "                        "
     ]
    },
    {
     "name": "stderr",
     "output_type": "stream",
     "text": [
      "\r"
     ]
    },
    {
     "name": "stderr",
     "output_type": "stream",
     "text": [
      "\r",
      "260it [06:28,  1.42s/it]"
     ]
    },
    {
     "name": "stdout",
     "output_type": "stream",
     "text": [
      "iter: 260, loss: 1.95899, losses: 0.73664, 0.607418, 0.614931\n"
     ]
    },
    {
     "name": "stderr",
     "output_type": "stream",
     "text": [
      "\r",
      "261it [06:30,  1.71s/it]"
     ]
    },
    {
     "name": "stderr",
     "output_type": "stream",
     "text": [
      "\r",
      "262it [06:32,  1.59s/it]"
     ]
    },
    {
     "name": "stderr",
     "output_type": "stream",
     "text": [
      "\r",
      "263it [06:33,  1.54s/it]"
     ]
    },
    {
     "name": "stderr",
     "output_type": "stream",
     "text": [
      "\r",
      "264it [06:34,  1.47s/it]"
     ]
    },
    {
     "name": "stderr",
     "output_type": "stream",
     "text": [
      "\r",
      "265it [06:36,  1.44s/it]"
     ]
    },
    {
     "name": "stderr",
     "output_type": "stream",
     "text": [
      "\r",
      "266it [06:37,  1.40s/it]"
     ]
    },
    {
     "name": "stderr",
     "output_type": "stream",
     "text": [
      "\r",
      "267it [06:38,  1.37s/it]"
     ]
    },
    {
     "name": "stderr",
     "output_type": "stream",
     "text": [
      "\r",
      "268it [06:40,  1.35s/it]"
     ]
    },
    {
     "name": "stderr",
     "output_type": "stream",
     "text": [
      "\r",
      "269it [06:41,  1.40s/it]"
     ]
    },
    {
     "name": "stderr",
     "output_type": "stream",
     "text": [
      "\r",
      "270it [06:43,  1.41s/it]"
     ]
    },
    {
     "name": "stderr",
     "output_type": "stream",
     "text": [
      "\r",
      "                        "
     ]
    },
    {
     "name": "stderr",
     "output_type": "stream",
     "text": [
      "\r"
     ]
    },
    {
     "name": "stderr",
     "output_type": "stream",
     "text": [
      "\r",
      "270it [06:43,  1.41s/it]"
     ]
    },
    {
     "name": "stdout",
     "output_type": "stream",
     "text": [
      "iter: 270, loss: 1.97035, losses: 0.738152, 0.608804, 0.623393\n"
     ]
    },
    {
     "name": "stderr",
     "output_type": "stream",
     "text": [
      "\r",
      "271it [06:45,  1.79s/it]"
     ]
    },
    {
     "name": "stderr",
     "output_type": "stream",
     "text": [
      "\r",
      "272it [06:47,  1.67s/it]"
     ]
    },
    {
     "name": "stderr",
     "output_type": "stream",
     "text": [
      "\r",
      "273it [06:48,  1.57s/it]"
     ]
    },
    {
     "name": "stderr",
     "output_type": "stream",
     "text": [
      "\r",
      "274it [06:49,  1.53s/it]"
     ]
    },
    {
     "name": "stderr",
     "output_type": "stream",
     "text": [
      "\r",
      "275it [06:51,  1.49s/it]"
     ]
    },
    {
     "name": "stderr",
     "output_type": "stream",
     "text": [
      "\r",
      "276it [06:52,  1.44s/it]"
     ]
    },
    {
     "name": "stderr",
     "output_type": "stream",
     "text": [
      "\r",
      "277it [06:54,  1.41s/it]"
     ]
    },
    {
     "name": "stderr",
     "output_type": "stream",
     "text": [
      "\r",
      "278it [06:55,  1.40s/it]"
     ]
    },
    {
     "name": "stderr",
     "output_type": "stream",
     "text": [
      "\r",
      "279it [06:56,  1.41s/it]"
     ]
    },
    {
     "name": "stderr",
     "output_type": "stream",
     "text": [
      "\r",
      "280it [06:58,  1.46s/it]"
     ]
    },
    {
     "name": "stderr",
     "output_type": "stream",
     "text": [
      "\r",
      "                        "
     ]
    },
    {
     "name": "stderr",
     "output_type": "stream",
     "text": [
      "\r"
     ]
    },
    {
     "name": "stderr",
     "output_type": "stream",
     "text": [
      "\r",
      "280it [06:58,  1.46s/it]"
     ]
    },
    {
     "name": "stdout",
     "output_type": "stream",
     "text": [
      "iter: 280, loss: 1.95535, losses: 0.737413, 0.606232, 0.611704\n"
     ]
    },
    {
     "name": "stderr",
     "output_type": "stream",
     "text": [
      "\r",
      "281it [07:00,  1.76s/it]"
     ]
    },
    {
     "name": "stderr",
     "output_type": "stream",
     "text": [
      "\r",
      "282it [07:02,  1.63s/it]"
     ]
    },
    {
     "name": "stderr",
     "output_type": "stream",
     "text": [
      "\r",
      "283it [07:03,  1.54s/it]"
     ]
    },
    {
     "name": "stderr",
     "output_type": "stream",
     "text": [
      "\r",
      "284it [07:04,  1.47s/it]"
     ]
    },
    {
     "name": "stderr",
     "output_type": "stream",
     "text": [
      "\r",
      "285it [07:06,  1.50s/it]"
     ]
    },
    {
     "name": "stderr",
     "output_type": "stream",
     "text": [
      "\r",
      "286it [07:07,  1.44s/it]"
     ]
    },
    {
     "name": "stderr",
     "output_type": "stream",
     "text": [
      "\r",
      "287it [07:09,  1.45s/it]"
     ]
    },
    {
     "name": "stderr",
     "output_type": "stream",
     "text": [
      "\r",
      "288it [07:10,  1.43s/it]"
     ]
    },
    {
     "name": "stderr",
     "output_type": "stream",
     "text": [
      "\r",
      "289it [07:11,  1.41s/it]"
     ]
    },
    {
     "name": "stderr",
     "output_type": "stream",
     "text": [
      "\r",
      "290it [07:13,  1.40s/it]"
     ]
    },
    {
     "name": "stderr",
     "output_type": "stream",
     "text": [
      "\r",
      "                        "
     ]
    },
    {
     "name": "stderr",
     "output_type": "stream",
     "text": [
      "\r"
     ]
    },
    {
     "name": "stderr",
     "output_type": "stream",
     "text": [
      "\r",
      "290it [07:13,  1.40s/it]"
     ]
    },
    {
     "name": "stdout",
     "output_type": "stream",
     "text": [
      "iter: 290, loss: 1.96728, losses: 0.739255, 0.613113, 0.614912\n"
     ]
    },
    {
     "name": "stderr",
     "output_type": "stream",
     "text": [
      "\r",
      "291it [07:16,  1.82s/it]"
     ]
    },
    {
     "name": "stderr",
     "output_type": "stream",
     "text": [
      "\r",
      "292it [07:17,  1.69s/it]"
     ]
    },
    {
     "name": "stderr",
     "output_type": "stream",
     "text": [
      "\r",
      "293it [07:18,  1.58s/it]"
     ]
    },
    {
     "name": "stderr",
     "output_type": "stream",
     "text": [
      "\r",
      "294it [07:20,  1.52s/it]"
     ]
    },
    {
     "name": "stderr",
     "output_type": "stream",
     "text": [
      "\r",
      "295it [07:21,  1.52s/it]"
     ]
    },
    {
     "name": "stderr",
     "output_type": "stream",
     "text": [
      "\r",
      "296it [07:23,  1.50s/it]"
     ]
    },
    {
     "name": "stderr",
     "output_type": "stream",
     "text": [
      "\r",
      "297it [07:24,  1.48s/it]"
     ]
    },
    {
     "name": "stderr",
     "output_type": "stream",
     "text": [
      "\r",
      "298it [07:25,  1.44s/it]"
     ]
    },
    {
     "name": "stderr",
     "output_type": "stream",
     "text": [
      "\r",
      "299it [07:27,  1.41s/it]"
     ]
    },
    {
     "name": "stderr",
     "output_type": "stream",
     "text": [
      "\r",
      "300it [07:28,  1.39s/it]"
     ]
    },
    {
     "name": "stderr",
     "output_type": "stream",
     "text": [
      "\r",
      "                        "
     ]
    },
    {
     "name": "stderr",
     "output_type": "stream",
     "text": [
      "\r"
     ]
    },
    {
     "name": "stderr",
     "output_type": "stream",
     "text": [
      "\r",
      "300it [07:29,  1.39s/it]"
     ]
    },
    {
     "name": "stdout",
     "output_type": "stream",
     "text": [
      "iter: 300, loss: 1.95027, losses: 0.736954, 0.606054, 0.607261\n"
     ]
    },
    {
     "name": "stderr",
     "output_type": "stream",
     "text": [
      "\r",
      "300it [07:30,  1.50s/it]"
     ]
    },
    {
     "name": "stderr",
     "output_type": "stream",
     "text": [
      "\n"
     ]
    }
   ],
   "source": []
  }
 ],
 "metadata": {},
 "nbformat": 4,
 "nbformat_minor": 5
}
